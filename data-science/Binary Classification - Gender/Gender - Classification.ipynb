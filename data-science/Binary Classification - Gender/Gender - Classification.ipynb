{
 "cells": [
  {
   "cell_type": "markdown",
   "id": "superior-hebrew",
   "metadata": {},
   "source": [
    "# \"Gender.\" / \"Гендер\""
   ]
  },
  {
   "cell_type": "markdown",
   "id": "searching-minute",
   "metadata": {},
   "source": [
    "### _\"Classifying gender based on personal preferences\" (Binary classification task)._ \n",
    "### _«Классификация пола на основе личных предпочтений» (задание на бинарную классификацию)._"
   ]
  },
  {
   "cell_type": "markdown",
   "id": "loving-square",
   "metadata": {},
   "source": [
    "## Table of Contents / Оглавление\n",
    "\n",
    "\n",
    "## Part 0: Introduction / Часть 0: Введение\n",
    "\n",
    "### Overview / Обзор\n",
    "The dataset that's we see here contains 5 columns and 66 entries of data about personal preferences based on gender.\n",
    "\n",
    "Набор данных, который мы видим здесь, содержит 5 столбцов и 66 записей данных о личных предпочтениях в зависимости от пола.\n",
    "\n",
    "Gender is a social construct. The way males and females are treated differently since birth moulds their behaviour and personal preferences into what society expects for their gender.\n",
    "\n",
    "Гендер – это социальный конструкт. То, как к мужчинам и женщинам относятся по-разному с момента рождения, формирует их поведение и личные предпочтения в соответствии с тем, что общество ожидает от их пола.\n",
    "\n",
    "**Метаданные:**\n",
    "    \n",
    "* **Favorite Color** - Favorite color (colors reported by respondents were mapped to either warm, cool or neutral) / Любимый цвет (цвета, о которых сообщили респонденты, были отнесены к теплым, холодным или нейтральным)\n",
    " \n",
    "* **Favorite Music Genre** - Favorite broad music genre / Любимый широкий музыкальный жанр\n",
    "\n",
    "* **Favorite Beverage** - Favorite alcoholic drink / Любимый алкогольный напиток\n",
    "\n",
    "* **Favorite Soft Drink** - Favorite fizzy drink / Любимый газированный напиток\n",
    "\n",
    "* **Gender** - Binary gender / Бинарный пол\n",
    "\n",
    "\n",
    "\n",
    "### Questions: / Вопросы:\n",
    "    \n",
    "Predict a person's gender based on their personal preferences (check balance of classes; calculate perdictions) / Предсказать пол человека на основе его личных предпочтений (проверить баланс классов, рассчитать прогнозы)\n",
    "\n",
    "\n",
    "## [Part 1: Import, Load Data](#Part-1:-Import,-Load-Data.)\n",
    "## Часть 1: Импорт, загрузка данных\n",
    "* ### Import libraries, Read data from ‘.csv’ file / Импорт библиотек, чтение данных с '.csv' файла\n",
    "\n",
    "## [Part 2: Exploratory Data Analysis](#Part-2:-Exploratory-Data-Analysis.)\n",
    "## Часть2: Исследовательский анализ данных\n",
    "* ### Info, Head / Инфо, заголовки\n",
    "* ### Rename Columns / Переименование колонок\n",
    "* ### Columns visualisation / Визуализация колонок\n",
    "* ### 'gender' attribute value counts / Количество значений атрибута «пол»  \n",
    "* ### Encode the Data / Кодировка данных\n",
    "\n",
    "## [Part 3: Data Wrangling and Transformation](#Part-3:-Data-Wrangling-and-Transformation.)\n",
    "## Часть 3: Обработка и преобразование данных\n",
    "* ### Creating datasets for ML part / Создание наборов данных для части ML\n",
    "* ### 'Train\\Test' splitting method / Метод разделения Train\\Test\n",
    "\n",
    "## [Part 4: Machine Learning](#Part-4:-Machine-Learning.)\n",
    "## Часть 4: Машинное обучение\n",
    "* #### Build, train and evaluate model / Создание, обучение и оценка модели\n",
    "* #### Logistic Regression / Логистическая регрессия\n",
    "* #### Visualisation of predictions / Визуализация предсказаний\n",
    "* #### Classification report / Отчет о классификации\n",
    "* #### Confusion Matrix / Матрица ошибок\n",
    "* #### ROC-AUC score / Оценка ROC-AUC\n",
    "\n",
    "## [Conclusion](#Conclusion.)\n",
    "## Выводы\n"
   ]
  },
  {
   "cell_type": "markdown",
   "id": "earlier-excerpt",
   "metadata": {},
   "source": [
    "## Part 1: Import, Load Data. \n",
    "## Импорт, Загрузка данных"
   ]
  },
  {
   "cell_type": "markdown",
   "id": "composite-training",
   "metadata": {},
   "source": [
    "* ### Import libraries / Импорт библиотек"
   ]
  },
  {
   "cell_type": "code",
   "execution_count": 23,
   "id": "illegal-stockholm",
   "metadata": {
    "_cell_guid": "b1076dfc-b9ad-4769-8c92-a6c4dae69d19",
    "_uuid": "8f2839f25d086af736a60e9eeb907d3b93b6e0e5",
    "papermill": {
     "duration": 0.050276,
     "end_time": "2021-05-12T06:37:35.575327",
     "exception": false,
     "start_time": "2021-05-12T06:37:35.525051",
     "status": "completed"
    },
    "tags": []
   },
   "outputs": [],
   "source": [
    "# import standard libraries / импорт стандартных библиотек\n",
    "import numpy as np\n",
    "import pandas as pd\n",
    "import seaborn as sns\n",
    "import matplotlib.pyplot as plt\n",
    "\n",
    "from sklearn.preprocessing import LabelEncoder, StandardScaler\n",
    "from sklearn.model_selection import train_test_split, GridSearchCV\n",
    "from sklearn.metrics import accuracy_score, confusion_matrix, classification_report, roc_auc_score\n",
    "from sklearn.linear_model import LogisticRegression\n",
    "import warnings\n",
    "\n",
    "# Set seaborn style\n",
    "sns.set(style=\"whitegrid\")\n",
    "\n",
    "# Ignore warnings\n",
    "warnings.filterwarnings('ignore')"
   ]
  },
  {
   "cell_type": "markdown",
   "id": "clinical-williams",
   "metadata": {
    "papermill": {
     "duration": 0.020256,
     "end_time": "2021-05-12T06:37:35.617997",
     "exception": false,
     "start_time": "2021-05-12T06:37:35.597741",
     "status": "completed"
    },
    "tags": []
   },
   "source": [
    "* ### Read data from ‘.csv’ file / Чтение данных с '.csv' файла"
   ]
  },
  {
   "cell_type": "code",
   "execution_count": 26,
   "id": "latter-philadelphia",
   "metadata": {
    "papermill": {
     "duration": 0.073936,
     "end_time": "2021-05-12T06:37:35.712323",
     "exception": false,
     "start_time": "2021-05-12T06:37:35.638387",
     "status": "completed"
    },
    "tags": []
   },
   "outputs": [],
   "source": [
    "# read data from '.csv' file / Чтение данных с '.csv' файла\n",
    "df = pd.read_csv('gender.csv')"
   ]
  },
  {
   "cell_type": "markdown",
   "id": "infinite-grain",
   "metadata": {},
   "source": [
    "## Part 2: Exploratory Data Analysis.\n",
    "## Исследовательский анализ данных"
   ]
  },
  {
   "cell_type": "markdown",
   "id": "local-grant",
   "metadata": {
    "papermill": {
     "duration": 0.021453,
     "end_time": "2021-05-12T06:37:35.942783",
     "exception": false,
     "start_time": "2021-05-12T06:37:35.921330",
     "status": "completed"
    },
    "tags": []
   },
   "source": [
    "* ### Info / Информация"
   ]
  },
  {
   "cell_type": "code",
   "execution_count": 27,
   "id": "saved-tragedy",
   "metadata": {
    "papermill": {
     "duration": 0.034193,
     "end_time": "2021-05-12T06:37:35.999559",
     "exception": false,
     "start_time": "2021-05-12T06:37:35.965366",
     "status": "completed"
    },
    "scrolled": true,
    "tags": []
   },
   "outputs": [
    {
     "name": "stdout",
     "output_type": "stream",
     "text": [
      "<class 'pandas.core.frame.DataFrame'>\n",
      "RangeIndex: 66 entries, 0 to 65\n",
      "Data columns (total 5 columns):\n",
      " #   Column                Non-Null Count  Dtype \n",
      "---  ------                --------------  ----- \n",
      " 0   Favorite Color        66 non-null     object\n",
      " 1   Favorite Music Genre  66 non-null     object\n",
      " 2   Favorite Beverage     66 non-null     object\n",
      " 3   Favorite Soft Drink   66 non-null     object\n",
      " 4   Gender                66 non-null     object\n",
      "dtypes: object(5)\n",
      "memory usage: 2.7+ KB\n"
     ]
    }
   ],
   "source": [
    "# print the full summary of the dataset /  печать полной сводки набора данных \n",
    "df.info()"
   ]
  },
  {
   "cell_type": "markdown",
   "id": "informational-adoption",
   "metadata": {},
   "source": [
    "Dataset consists of 66 rows and 5 columns; / Набор данных состоит из 66 строк и 5 столбцов;\n",
    "\n",
    "has 1 datatype: object(5); / имеет 1 тип данных: object(5);\n",
    "\n",
    "has no missing values. / не имеет пропущенных значений."
   ]
  },
  {
   "cell_type": "markdown",
   "id": "educational-occupation",
   "metadata": {},
   "source": [
    "* ### Head / Заголовки"
   ]
  },
  {
   "cell_type": "code",
   "execution_count": 28,
   "id": "cathedral-police",
   "metadata": {},
   "outputs": [
    {
     "data": {
      "text/html": [
       "<div>\n",
       "<style scoped>\n",
       "    .dataframe tbody tr th:only-of-type {\n",
       "        vertical-align: middle;\n",
       "    }\n",
       "\n",
       "    .dataframe tbody tr th {\n",
       "        vertical-align: top;\n",
       "    }\n",
       "\n",
       "    .dataframe thead th {\n",
       "        text-align: right;\n",
       "    }\n",
       "</style>\n",
       "<table border=\"1\" class=\"dataframe\">\n",
       "  <thead>\n",
       "    <tr style=\"text-align: right;\">\n",
       "      <th></th>\n",
       "      <th>Favorite Color</th>\n",
       "      <th>Favorite Music Genre</th>\n",
       "      <th>Favorite Beverage</th>\n",
       "      <th>Favorite Soft Drink</th>\n",
       "      <th>Gender</th>\n",
       "    </tr>\n",
       "  </thead>\n",
       "  <tbody>\n",
       "    <tr>\n",
       "      <th>0</th>\n",
       "      <td>Cool</td>\n",
       "      <td>Rock</td>\n",
       "      <td>Vodka</td>\n",
       "      <td>7UP/Sprite</td>\n",
       "      <td>F</td>\n",
       "    </tr>\n",
       "    <tr>\n",
       "      <th>1</th>\n",
       "      <td>Neutral</td>\n",
       "      <td>Hip hop</td>\n",
       "      <td>Vodka</td>\n",
       "      <td>Coca Cola/Pepsi</td>\n",
       "      <td>F</td>\n",
       "    </tr>\n",
       "    <tr>\n",
       "      <th>2</th>\n",
       "      <td>Warm</td>\n",
       "      <td>Rock</td>\n",
       "      <td>Wine</td>\n",
       "      <td>Coca Cola/Pepsi</td>\n",
       "      <td>F</td>\n",
       "    </tr>\n",
       "    <tr>\n",
       "      <th>3</th>\n",
       "      <td>Warm</td>\n",
       "      <td>Folk/Traditional</td>\n",
       "      <td>Whiskey</td>\n",
       "      <td>Fanta</td>\n",
       "      <td>F</td>\n",
       "    </tr>\n",
       "    <tr>\n",
       "      <th>4</th>\n",
       "      <td>Cool</td>\n",
       "      <td>Rock</td>\n",
       "      <td>Vodka</td>\n",
       "      <td>Coca Cola/Pepsi</td>\n",
       "      <td>F</td>\n",
       "    </tr>\n",
       "  </tbody>\n",
       "</table>\n",
       "</div>"
      ],
      "text/plain": [
       "  Favorite Color Favorite Music Genre Favorite Beverage Favorite Soft Drink  \\\n",
       "0           Cool                 Rock             Vodka          7UP/Sprite   \n",
       "1        Neutral              Hip hop             Vodka     Coca Cola/Pepsi   \n",
       "2           Warm                 Rock              Wine     Coca Cola/Pepsi   \n",
       "3           Warm     Folk/Traditional           Whiskey               Fanta   \n",
       "4           Cool                 Rock             Vodka     Coca Cola/Pepsi   \n",
       "\n",
       "  Gender  \n",
       "0      F  \n",
       "1      F  \n",
       "2      F  \n",
       "3      F  \n",
       "4      F  "
      ]
     },
     "execution_count": 28,
     "metadata": {},
     "output_type": "execute_result"
    }
   ],
   "source": [
    "# preview of the first 5 lines of the loaded data / предварительный просмотр первых 5 строк загруженных данных\n",
    "df.head()"
   ]
  },
  {
   "cell_type": "markdown",
   "id": "applicable-butter",
   "metadata": {},
   "source": [
    "* ### Rename Columns / Переименование колонок"
   ]
  },
  {
   "cell_type": "code",
   "execution_count": 29,
   "id": "narrative-worship",
   "metadata": {
    "scrolled": true
   },
   "outputs": [
    {
     "data": {
      "text/plain": [
       "Index(['color', 'music', 'beverage', 'softdrink', 'gender'], dtype='object')"
      ]
     },
     "execution_count": 29,
     "metadata": {},
     "output_type": "execute_result"
    }
   ],
   "source": [
    "# columns rename / переименование колонок\n",
    "df.columns = ['color', 'music', 'beverage', 'softdrink', 'gender']\n",
    "df.columns"
   ]
  },
  {
   "cell_type": "markdown",
   "id": "mexican-rally",
   "metadata": {},
   "source": [
    "* ### Columns visualisation / Визуализация колонок"
   ]
  },
  {
   "cell_type": "code",
   "execution_count": 32,
   "id": "34c5bf9c-a82f-4ca0-b257-7f152f3a0dc5",
   "metadata": {
    "scrolled": true
   },
   "outputs": [
    {
     "data": {
      "image/png": "[encoded data removed]",
      "text/plain": [
       "<Figure size 900x1200 with 5 Axes>"
      ]
     },
     "metadata": {},
     "output_type": "display_data"
    }
   ],
   "source": [
    "# Columns visualisation / визуализация колонок\n",
    "fig, axes = plt.subplots(nrows=5, ncols=1, figsize=(9, 12))\n",
    "\n",
    "# Define a color palette\n",
    "palette = sns.color_palette(\"pastel\")\n",
    "\n",
    "for i, col in enumerate(df.columns):\n",
    "    sns.countplot(data=df, x=col, ax=axes[i], palette=palette)\n",
    "    axes[i].set_title(f'Countplot of {col.capitalize()}', fontsize=16, fontweight='bold')\n",
    "    axes[i].set_xlabel(col.capitalize(), fontsize=14)\n",
    "    axes[i].set_ylabel('Count', fontsize=14)\n",
    "    axes[i].tick_params(axis='both', which='major', labelsize=12)\n",
    "\n",
    "# Adjust layout to prevent overlap\n",
    "plt.tight_layout()\n",
    "plt.show()"
   ]
  },
  {
   "cell_type": "markdown",
   "id": "particular-basement",
   "metadata": {},
   "source": [
    "* ### 'gender' attribute value counts / количество значений атрибута «пол»"
   ]
  },
  {
   "cell_type": "code",
   "execution_count": 7,
   "id": "cosmetic-mechanics",
   "metadata": {
    "scrolled": true
   },
   "outputs": [
    {
     "data": {
      "text/plain": [
       "gender\n",
       "F    33\n",
       "M    33\n",
       "Name: count, dtype: int64"
      ]
     },
     "execution_count": 7,
     "metadata": {},
     "output_type": "execute_result"
    }
   ],
   "source": [
    "# 'gender' value counts / количество значений атрибута «пол»\n",
    "df['gender'].value_counts()"
   ]
  },
  {
   "cell_type": "markdown",
   "id": "primary-agreement",
   "metadata": {},
   "source": [
    "There are 33 of 'Female' and 33 of 'Male' in our dataset. This means that our dataset is balanced. / В нашем наборе данных 33 «женщины» и 33 «мужчины». Это означает, что наш набор данных сбалансирован."
   ]
  },
  {
   "cell_type": "markdown",
   "id": "accepted-texas",
   "metadata": {
    "papermill": {
     "duration": 0.02239,
     "end_time": "2021-05-12T06:37:36.285297",
     "exception": false,
     "start_time": "2021-05-12T06:37:36.262907",
     "status": "completed"
    },
    "tags": []
   },
   "source": [
    "* ### Encode the Data / Кодировка данных"
   ]
  },
  {
   "cell_type": "code",
   "execution_count": 34,
   "id": "05156be9-da13-424c-a8bf-260ee322a5e0",
   "metadata": {},
   "outputs": [
    {
     "data": {
      "text/html": [
       "<div>\n",
       "<style scoped>\n",
       "    .dataframe tbody tr th:only-of-type {\n",
       "        vertical-align: middle;\n",
       "    }\n",
       "\n",
       "    .dataframe tbody tr th {\n",
       "        vertical-align: top;\n",
       "    }\n",
       "\n",
       "    .dataframe thead th {\n",
       "        text-align: right;\n",
       "    }\n",
       "</style>\n",
       "<table border=\"1\" class=\"dataframe\">\n",
       "  <thead>\n",
       "    <tr style=\"text-align: right;\">\n",
       "      <th></th>\n",
       "      <th>color</th>\n",
       "      <th>music</th>\n",
       "      <th>beverage</th>\n",
       "      <th>softdrink</th>\n",
       "      <th>gender</th>\n",
       "    </tr>\n",
       "  </thead>\n",
       "  <tbody>\n",
       "    <tr>\n",
       "      <th>0</th>\n",
       "      <td>0</td>\n",
       "      <td>6</td>\n",
       "      <td>3</td>\n",
       "      <td>0</td>\n",
       "      <td>0</td>\n",
       "    </tr>\n",
       "    <tr>\n",
       "      <th>1</th>\n",
       "      <td>1</td>\n",
       "      <td>2</td>\n",
       "      <td>3</td>\n",
       "      <td>1</td>\n",
       "      <td>0</td>\n",
       "    </tr>\n",
       "    <tr>\n",
       "      <th>2</th>\n",
       "      <td>2</td>\n",
       "      <td>6</td>\n",
       "      <td>5</td>\n",
       "      <td>1</td>\n",
       "      <td>0</td>\n",
       "    </tr>\n",
       "    <tr>\n",
       "      <th>3</th>\n",
       "      <td>2</td>\n",
       "      <td>1</td>\n",
       "      <td>4</td>\n",
       "      <td>2</td>\n",
       "      <td>0</td>\n",
       "    </tr>\n",
       "    <tr>\n",
       "      <th>4</th>\n",
       "      <td>0</td>\n",
       "      <td>6</td>\n",
       "      <td>3</td>\n",
       "      <td>1</td>\n",
       "      <td>0</td>\n",
       "    </tr>\n",
       "  </tbody>\n",
       "</table>\n",
       "</div>"
      ],
      "text/plain": [
       "   color  music  beverage  softdrink  gender\n",
       "0      0      6         3          0       0\n",
       "1      1      2         3          1       0\n",
       "2      2      6         5          1       0\n",
       "3      2      1         4          2       0\n",
       "4      0      6         3          1       0"
      ]
     },
     "execution_count": 34,
     "metadata": {},
     "output_type": "execute_result"
    }
   ],
   "source": [
    "# Label encoding / кодировка метки\n",
    "label_encoders = {}\n",
    "for column in df.columns:\n",
    "    le = LabelEncoder()\n",
    "    df[column] = le.fit_transform(df[column])\n",
    "    label_encoders[column] = le\n",
    "data.head()"
   ]
  },
  {
   "cell_type": "markdown",
   "id": "sorted-mining",
   "metadata": {},
   "source": [
    "## Part 3: Data Wrangling and Transformation.\n",
    "## Обработка и преобразование данных"
   ]
  },
  {
   "cell_type": "markdown",
   "id": "received-vocabulary",
   "metadata": {
    "papermill": {
     "duration": 0.029702,
     "end_time": "2021-05-12T06:37:38.664858",
     "exception": false,
     "start_time": "2021-05-12T06:37:38.635156",
     "status": "completed"
    },
    "tags": []
   },
   "source": [
    "* ### Creating datasets for ML part / Создание наборов данных для части ML"
   ]
  },
  {
   "cell_type": "code",
   "execution_count": 35,
   "id": "acute-feeding",
   "metadata": {
    "papermill": {
     "duration": 0.117005,
     "end_time": "2021-05-12T06:37:38.807542",
     "exception": false,
     "start_time": "2021-05-12T06:37:38.690537",
     "status": "completed"
    },
    "tags": []
   },
   "outputs": [],
   "source": [
    "# set 'X' for features' and y' for the target ('gender'). / установка «X» для характеристик и «y» для цели («пол»).\n",
    "y = df['gender']\n",
    "X = df.drop(['gender'], axis=1)"
   ]
  },
  {
   "cell_type": "markdown",
   "id": "known-water",
   "metadata": {},
   "source": [
    "* ### 'Train\\Test' split / Разделение Train\\Test"
   ]
  },
  {
   "cell_type": "code",
   "execution_count": 36,
   "id": "helpful-endorsement",
   "metadata": {},
   "outputs": [],
   "source": [
    "# 'Train\\Test' splitting method / метод разделения Train\\Test\n",
    "X_train, X_test, y_train, y_test = train_test_split(X, y, test_size=0.3, random_state=0)"
   ]
  },
  {
   "cell_type": "markdown",
   "id": "central-binding",
   "metadata": {},
   "source": [
    "## Part 4: Machine Learning.\n",
    "## Машинное обучение."
   ]
  },
  {
   "cell_type": "markdown",
   "id": "pending-glucose",
   "metadata": {},
   "source": [
    "* ### Build, train and evaluate model / Построение, тренировка и оценка модели"
   ]
  },
  {
   "cell_type": "markdown",
   "id": "sunset-restaurant",
   "metadata": {
    "papermill": {
     "duration": 0.025229,
     "end_time": "2021-05-12T06:37:38.959430",
     "exception": false,
     "start_time": "2021-05-12T06:37:38.934201",
     "status": "completed"
    },
    "tags": []
   },
   "source": [
    "### Logistic Regression / Логистическая регрессия"
   ]
  },
  {
   "cell_type": "code",
   "execution_count": 37,
   "id": "signal-hurricane",
   "metadata": {
    "papermill": {
     "duration": 0.177869,
     "end_time": "2021-05-12T06:37:39.162420",
     "exception": false,
     "start_time": "2021-05-12T06:37:38.984551",
     "status": "completed"
    },
    "tags": []
   },
   "outputs": [],
   "source": [
    "# Logistic Regression model / Модель логистической регрессии\n",
    "LR = LogisticRegression(random_state=0)\n",
    "LR.fit(X_train, y_train)\n",
    "LR_pred = LR.predict(X_test)"
   ]
  },
  {
   "cell_type": "code",
   "execution_count": 38,
   "id": "nuclear-milan",
   "metadata": {},
   "outputs": [
    {
     "data": {
      "text/plain": [
       "array([1, 1, 1, 1, 1, 0, 0, 0, 1, 0, 1, 0, 0, 1, 1, 0, 0, 0, 0, 0],\n",
       "      dtype=int64)"
      ]
     },
     "execution_count": 38,
     "metadata": {},
     "output_type": "execute_result"
    }
   ],
   "source": [
    "# LR predictions / Предсказание логистической регрессии\n",
    "LR_pred"
   ]
  },
  {
   "cell_type": "markdown",
   "id": "preliminary-looking",
   "metadata": {},
   "source": [
    "* ### Visualisation of predictions / Визуализация предсказания"
   ]
  },
  {
   "cell_type": "code",
   "execution_count": 43,
   "id": "2b7f6a4a-8e39-461a-99de-abe8555b5e90",
   "metadata": {},
   "outputs": [
    {
     "data": {
      "text/html": [
       "<style type=\"text/css\">\n",
       "#T_ac61e_row0_col0, #T_ac61e_row0_col1, #T_ac61e_row1_col1, #T_ac61e_row2_col1, #T_ac61e_row3_col0, #T_ac61e_row3_col1, #T_ac61e_row4_col0, #T_ac61e_row4_col1, #T_ac61e_row6_col0, #T_ac61e_row7_col0, #T_ac61e_row8_col0, #T_ac61e_row8_col1 {\n",
       "  background-color: #08306b;\n",
       "  color: #f1f1f1;\n",
       "}\n",
       "#T_ac61e_row1_col0, #T_ac61e_row2_col0, #T_ac61e_row5_col0, #T_ac61e_row5_col1, #T_ac61e_row6_col1, #T_ac61e_row7_col1, #T_ac61e_row9_col0, #T_ac61e_row9_col1 {\n",
       "  background-color: #f7fbff;\n",
       "  color: #000000;\n",
       "}\n",
       "</style>\n",
       "<table id=\"T_ac61e\">\n",
       "  <thead>\n",
       "    <tr>\n",
       "      <th class=\"blank level0\" >&nbsp;</th>\n",
       "      <th id=\"T_ac61e_level0_col0\" class=\"col_heading level0 col0\" >Actual Gender</th>\n",
       "      <th id=\"T_ac61e_level0_col1\" class=\"col_heading level0 col1\" >LR Predicted Gender</th>\n",
       "    </tr>\n",
       "  </thead>\n",
       "  <tbody>\n",
       "    <tr>\n",
       "      <th id=\"T_ac61e_level0_row0\" class=\"row_heading level0 row0\" >45</th>\n",
       "      <td id=\"T_ac61e_row0_col0\" class=\"data row0 col0\" >1</td>\n",
       "      <td id=\"T_ac61e_row0_col1\" class=\"data row0 col1\" >1</td>\n",
       "    </tr>\n",
       "    <tr>\n",
       "      <th id=\"T_ac61e_level0_row1\" class=\"row_heading level0 row1\" >28</th>\n",
       "      <td id=\"T_ac61e_row1_col0\" class=\"data row1 col0\" >0</td>\n",
       "      <td id=\"T_ac61e_row1_col1\" class=\"data row1 col1\" >1</td>\n",
       "    </tr>\n",
       "    <tr>\n",
       "      <th id=\"T_ac61e_level0_row2\" class=\"row_heading level0 row2\" >29</th>\n",
       "      <td id=\"T_ac61e_row2_col0\" class=\"data row2 col0\" >0</td>\n",
       "      <td id=\"T_ac61e_row2_col1\" class=\"data row2 col1\" >1</td>\n",
       "    </tr>\n",
       "    <tr>\n",
       "      <th id=\"T_ac61e_level0_row3\" class=\"row_heading level0 row3\" >55</th>\n",
       "      <td id=\"T_ac61e_row3_col0\" class=\"data row3 col0\" >1</td>\n",
       "      <td id=\"T_ac61e_row3_col1\" class=\"data row3 col1\" >1</td>\n",
       "    </tr>\n",
       "    <tr>\n",
       "      <th id=\"T_ac61e_level0_row4\" class=\"row_heading level0 row4\" >63</th>\n",
       "      <td id=\"T_ac61e_row4_col0\" class=\"data row4 col0\" >1</td>\n",
       "      <td id=\"T_ac61e_row4_col1\" class=\"data row4 col1\" >1</td>\n",
       "    </tr>\n",
       "    <tr>\n",
       "      <th id=\"T_ac61e_level0_row5\" class=\"row_heading level0 row5\" >31</th>\n",
       "      <td id=\"T_ac61e_row5_col0\" class=\"data row5 col0\" >0</td>\n",
       "      <td id=\"T_ac61e_row5_col1\" class=\"data row5 col1\" >0</td>\n",
       "    </tr>\n",
       "    <tr>\n",
       "      <th id=\"T_ac61e_level0_row6\" class=\"row_heading level0 row6\" >51</th>\n",
       "      <td id=\"T_ac61e_row6_col0\" class=\"data row6 col0\" >1</td>\n",
       "      <td id=\"T_ac61e_row6_col1\" class=\"data row6 col1\" >0</td>\n",
       "    </tr>\n",
       "    <tr>\n",
       "      <th id=\"T_ac61e_level0_row7\" class=\"row_heading level0 row7\" >46</th>\n",
       "      <td id=\"T_ac61e_row7_col0\" class=\"data row7 col0\" >1</td>\n",
       "      <td id=\"T_ac61e_row7_col1\" class=\"data row7 col1\" >0</td>\n",
       "    </tr>\n",
       "    <tr>\n",
       "      <th id=\"T_ac61e_level0_row8\" class=\"row_heading level0 row8\" >34</th>\n",
       "      <td id=\"T_ac61e_row8_col0\" class=\"data row8 col0\" >1</td>\n",
       "      <td id=\"T_ac61e_row8_col1\" class=\"data row8 col1\" >1</td>\n",
       "    </tr>\n",
       "    <tr>\n",
       "      <th id=\"T_ac61e_level0_row9\" class=\"row_heading level0 row9\" >4</th>\n",
       "      <td id=\"T_ac61e_row9_col0\" class=\"data row9 col0\" >0</td>\n",
       "      <td id=\"T_ac61e_row9_col1\" class=\"data row9 col1\" >0</td>\n",
       "    </tr>\n",
       "  </tbody>\n",
       "</table>\n"
      ],
      "text/plain": [
       "<pandas.io.formats.style.Styler at 0x196da2841d0>"
      ]
     },
     "execution_count": 43,
     "metadata": {},
     "output_type": "execute_result"
    }
   ],
   "source": [
    "# Visual comparison between Actual 'Gender' and Predicted 'Gender' / визуальное сравнение фактического «пола» и прогнозируемого «пола»\n",
    "actualvspredicted = pd.DataFrame({\"Actual Gender\": y_test, \"LR Predicted Gender\": LR_pred})\n",
    "actualvspredicted.head(10).style.background_gradient(cmap='Blues')"
   ]
  },
  {
   "cell_type": "markdown",
   "id": "single-chest",
   "metadata": {},
   "source": [
    "* ### Classification report / Отчет о классификации"
   ]
  },
  {
   "cell_type": "code",
   "execution_count": 47,
   "id": "332fc840-cbef-4cb2-a710-8b8cfa031617",
   "metadata": {},
   "outputs": [
    {
     "name": "stdout",
     "output_type": "stream",
     "text": [
      "LR Classification Report: \n",
      "               precision    recall  f1-score   support\n",
      "\n",
      "           0   0.636364  0.777778  0.700000         9\n",
      "           1   0.777778  0.636364  0.700000        11\n",
      "\n",
      "    accuracy                       0.700000        20\n",
      "   macro avg   0.707071  0.707071  0.700000        20\n",
      "weighted avg   0.714141  0.700000  0.700000        20\n",
      "\n"
     ]
    }
   ],
   "source": [
    "# Classification report of LR model / отчет о классификации модели LR\n",
    "print(\"LR Classification Report: \\n\", classification_report(y_test, LR_pred, digits=6))"
   ]
  },
  {
   "cell_type": "markdown",
   "id": "direct-planner",
   "metadata": {},
   "source": [
    "* ### Confusion matrix / Матрица ошибок"
   ]
  },
  {
   "cell_type": "code",
   "execution_count": 49,
   "id": "specific-variety",
   "metadata": {},
   "outputs": [
    {
     "name": "stdout",
     "output_type": "stream",
     "text": [
      "LR Confusion Matrix\n"
     ]
    },
    {
     "data": {
      "image/png": "[encoded data removed]",
      "text/plain": [
       "<Figure size 640x480 with 2 Axes>"
      ]
     },
     "metadata": {},
     "output_type": "display_data"
    },
    {
     "name": "stdout",
     "output_type": "stream",
     "text": [
      "\n"
     ]
    }
   ],
   "source": [
    "# confusion matrix of LR model / матрица ошибок регрессионной модели\n",
    "LR_confusion_mx = confusion_matrix(y_test, LR_pred)\n",
    "print('LR Confusion Matrix')\n",
    "\n",
    "# visualisation / визуализация\n",
    "ax = plt.subplot()\n",
    "sns.heatmap(LR_confusion_mx, annot = True, fmt = 'd', cmap = 'Blues', ax = ax, linewidths = 0.5, annot_kws = {'size': 15})\n",
    "ax.set_ylabel('FP       True label        TP')\n",
    "ax.set_xlabel('FN       Predicted label        TN')\n",
    "ax.xaxis.set_ticklabels(['1', '0'], fontsize = 10)\n",
    "ax.yaxis.set_ticklabels(['1', '0'], fontsize = 10)\n",
    "plt.show()\n",
    "print() "
   ]
  },
  {
   "cell_type": "markdown",
   "id": "tropical-superintendent",
   "metadata": {},
   "source": [
    "* ### ROC-AUC score / Оценка ROC-AUC"
   ]
  },
  {
   "cell_type": "code",
   "execution_count": 54,
   "id": "outer-council",
   "metadata": {},
   "outputs": [
    {
     "data": {
      "text/plain": [
       "0.7070707070707071"
      ]
     },
     "execution_count": 54,
     "metadata": {},
     "output_type": "execute_result"
    }
   ],
   "source": [
    "# ROC-AUC score of LR model / Оценка ROC-AUC модели LR\n",
    "roc_auc_score(LR_pred, y_test)"
   ]
  },
  {
   "cell_type": "markdown",
   "id": "coral-organ",
   "metadata": {},
   "source": [
    "##  Conclusion. \n",
    "## Выводы"
   ]
  },
  {
   "cell_type": "markdown",
   "id": "legendary-poster",
   "metadata": {},
   "source": [
    "**The main question** was: Predict a person's gender based on their personal preferences (check balance of classes; calculate perdictions). / **Основной вопрос** заключался в следующем: предсказать пол человека на основе его личных предпочтений (проверить баланс занятий, рассчитать прогнозы).\n",
    "\n",
    "**Answers**: / **Ответы**:\n",
    "\n",
    "1. The data is too small. Only 66 instances. / Данных слишком мало. Всего 66 экземпляров.\n",
    "\n",
    "2. The classes are balanced. / Классы сбалансированы\n",
    "\n",
    "3. Logistic Regression model was choosen. Predictions (with visual comparison) were done with an accuracy of the model equal 0.7, no hyper parameters were applied. / Была выбрана модель логистической регрессии. Прогнозы (с визуальным сравнением) делались с точностью модели 0,7, гиперпараметры не применялись."
   ]
  },
  {
   "cell_type": "markdown",
   "id": "31190ebf",
   "metadata": {},
   "source": [
    "### Дополнительно: Метод ближайших соседей (K-Nearest Neighbors)"
   ]
  },
  {
   "cell_type": "code",
   "execution_count": 17,
   "id": "83182c96",
   "metadata": {},
   "outputs": [],
   "source": [
    "#импорт библиотеки\n",
    "from sklearn.neighbors import KNeighborsClassifier"
   ]
  },
  {
   "cell_type": "code",
   "execution_count": 55,
   "id": "019c2672-8822-4623-a374-d5019d4b192a",
   "metadata": {},
   "outputs": [
    {
     "data": {
      "text/html": [
       "<style>#sk-container-id-1 {\n",
       "  /* Definition of color scheme common for light and dark mode */\n",
       "  --sklearn-color-text: black;\n",
       "  --sklearn-color-line: gray;\n",
       "  /* Definition of color scheme for unfitted estimators */\n",
       "  --sklearn-color-unfitted-level-0: #fff5e6;\n",
       "  --sklearn-color-unfitted-level-1: #f6e4d2;\n",
       "  --sklearn-color-unfitted-level-2: #ffe0b3;\n",
       "  --sklearn-color-unfitted-level-3: chocolate;\n",
       "  /* Definition of color scheme for fitted estimators */\n",
       "  --sklearn-color-fitted-level-0: #f0f8ff;\n",
       "  --sklearn-color-fitted-level-1: #d4ebff;\n",
       "  --sklearn-color-fitted-level-2: #b3dbfd;\n",
       "  --sklearn-color-fitted-level-3: cornflowerblue;\n",
       "\n",
       "  /* Specific color for light theme */\n",
       "  --sklearn-color-text-on-default-background: var(--sg-text-color, var(--theme-code-foreground, var(--jp-content-font-color1, black)));\n",
       "  --sklearn-color-background: var(--sg-background-color, var(--theme-background, var(--jp-layout-color0, white)));\n",
       "  --sklearn-color-border-box: var(--sg-text-color, var(--theme-code-foreground, var(--jp-content-font-color1, black)));\n",
       "  --sklearn-color-icon: #696969;\n",
       "\n",
       "  @media (prefers-color-scheme: dark) {\n",
       "    /* Redefinition of color scheme for dark theme */\n",
       "    --sklearn-color-text-on-default-background: var(--sg-text-color, var(--theme-code-foreground, var(--jp-content-font-color1, white)));\n",
       "    --sklearn-color-background: var(--sg-background-color, var(--theme-background, var(--jp-layout-color0, #111)));\n",
       "    --sklearn-color-border-box: var(--sg-text-color, var(--theme-code-foreground, var(--jp-content-font-color1, white)));\n",
       "    --sklearn-color-icon: #878787;\n",
       "  }\n",
       "}\n",
       "\n",
       "#sk-container-id-1 {\n",
       "  color: var(--sklearn-color-text);\n",
       "}\n",
       "\n",
       "#sk-container-id-1 pre {\n",
       "  padding: 0;\n",
       "}\n",
       "\n",
       "#sk-container-id-1 input.sk-hidden--visually {\n",
       "  border: 0;\n",
       "  clip: rect(1px 1px 1px 1px);\n",
       "  clip: rect(1px, 1px, 1px, 1px);\n",
       "  height: 1px;\n",
       "  margin: -1px;\n",
       "  overflow: hidden;\n",
       "  padding: 0;\n",
       "  position: absolute;\n",
       "  width: 1px;\n",
       "}\n",
       "\n",
       "#sk-container-id-1 div.sk-dashed-wrapped {\n",
       "  border: 1px dashed var(--sklearn-color-line);\n",
       "  margin: 0 0.4em 0.5em 0.4em;\n",
       "  box-sizing: border-box;\n",
       "  padding-bottom: 0.4em;\n",
       "  background-color: var(--sklearn-color-background);\n",
       "}\n",
       "\n",
       "#sk-container-id-1 div.sk-container {\n",
       "  /* jupyter's `normalize.less` sets `[hidden] { display: none; }`\n",
       "     but bootstrap.min.css set `[hidden] { display: none !important; }`\n",
       "     so we also need the `!important` here to be able to override the\n",
       "     default hidden behavior on the sphinx rendered scikit-learn.org.\n",
       "     See: https://github.com/scikit-learn/scikit-learn/issues/21755 */\n",
       "  display: inline-block !important;\n",
       "  position: relative;\n",
       "}\n",
       "\n",
       "#sk-container-id-1 div.sk-text-repr-fallback {\n",
       "  display: none;\n",
       "}\n",
       "\n",
       "div.sk-parallel-item,\n",
       "div.sk-serial,\n",
       "div.sk-item {\n",
       "  /* draw centered vertical line to link estimators */\n",
       "  background-image: linear-gradient(var(--sklearn-color-text-on-default-background), var(--sklearn-color-text-on-default-background));\n",
       "  background-size: 2px 100%;\n",
       "  background-repeat: no-repeat;\n",
       "  background-position: center center;\n",
       "}\n",
       "\n",
       "/* Parallel-specific style estimator block */\n",
       "\n",
       "#sk-container-id-1 div.sk-parallel-item::after {\n",
       "  content: \"\";\n",
       "  width: 100%;\n",
       "  border-bottom: 2px solid var(--sklearn-color-text-on-default-background);\n",
       "  flex-grow: 1;\n",
       "}\n",
       "\n",
       "#sk-container-id-1 div.sk-parallel {\n",
       "  display: flex;\n",
       "  align-items: stretch;\n",
       "  justify-content: center;\n",
       "  background-color: var(--sklearn-color-background);\n",
       "  position: relative;\n",
       "}\n",
       "\n",
       "#sk-container-id-1 div.sk-parallel-item {\n",
       "  display: flex;\n",
       "  flex-direction: column;\n",
       "}\n",
       "\n",
       "#sk-container-id-1 div.sk-parallel-item:first-child::after {\n",
       "  align-self: flex-end;\n",
       "  width: 50%;\n",
       "}\n",
       "\n",
       "#sk-container-id-1 div.sk-parallel-item:last-child::after {\n",
       "  align-self: flex-start;\n",
       "  width: 50%;\n",
       "}\n",
       "\n",
       "#sk-container-id-1 div.sk-parallel-item:only-child::after {\n",
       "  width: 0;\n",
       "}\n",
       "\n",
       "/* Serial-specific style estimator block */\n",
       "\n",
       "#sk-container-id-1 div.sk-serial {\n",
       "  display: flex;\n",
       "  flex-direction: column;\n",
       "  align-items: center;\n",
       "  background-color: var(--sklearn-color-background);\n",
       "  padding-right: 1em;\n",
       "  padding-left: 1em;\n",
       "}\n",
       "\n",
       "\n",
       "/* Toggleable style: style used for estimator/Pipeline/ColumnTransformer box that is\n",
       "clickable and can be expanded/collapsed.\n",
       "- Pipeline and ColumnTransformer use this feature and define the default style\n",
       "- Estimators will overwrite some part of the style using the `sk-estimator` class\n",
       "*/\n",
       "\n",
       "/* Pipeline and ColumnTransformer style (default) */\n",
       "\n",
       "#sk-container-id-1 div.sk-toggleable {\n",
       "  /* Default theme specific background. It is overwritten whether we have a\n",
       "  specific estimator or a Pipeline/ColumnTransformer */\n",
       "  background-color: var(--sklearn-color-background);\n",
       "}\n",
       "\n",
       "/* Toggleable label */\n",
       "#sk-container-id-1 label.sk-toggleable__label {\n",
       "  cursor: pointer;\n",
       "  display: block;\n",
       "  width: 100%;\n",
       "  margin-bottom: 0;\n",
       "  padding: 0.5em;\n",
       "  box-sizing: border-box;\n",
       "  text-align: center;\n",
       "}\n",
       "\n",
       "#sk-container-id-1 label.sk-toggleable__label-arrow:before {\n",
       "  /* Arrow on the left of the label */\n",
       "  content: \"▸\";\n",
       "  float: left;\n",
       "  margin-right: 0.25em;\n",
       "  color: var(--sklearn-color-icon);\n",
       "}\n",
       "\n",
       "#sk-container-id-1 label.sk-toggleable__label-arrow:hover:before {\n",
       "  color: var(--sklearn-color-text);\n",
       "}\n",
       "\n",
       "/* Toggleable content - dropdown */\n",
       "\n",
       "#sk-container-id-1 div.sk-toggleable__content {\n",
       "  max-height: 0;\n",
       "  max-width: 0;\n",
       "  overflow: hidden;\n",
       "  text-align: left;\n",
       "  /* unfitted */\n",
       "  background-color: var(--sklearn-color-unfitted-level-0);\n",
       "}\n",
       "\n",
       "#sk-container-id-1 div.sk-toggleable__content.fitted {\n",
       "  /* fitted */\n",
       "  background-color: var(--sklearn-color-fitted-level-0);\n",
       "}\n",
       "\n",
       "#sk-container-id-1 div.sk-toggleable__content pre {\n",
       "  margin: 0.2em;\n",
       "  border-radius: 0.25em;\n",
       "  color: var(--sklearn-color-text);\n",
       "  /* unfitted */\n",
       "  background-color: var(--sklearn-color-unfitted-level-0);\n",
       "}\n",
       "\n",
       "#sk-container-id-1 div.sk-toggleable__content.fitted pre {\n",
       "  /* unfitted */\n",
       "  background-color: var(--sklearn-color-fitted-level-0);\n",
       "}\n",
       "\n",
       "#sk-container-id-1 input.sk-toggleable__control:checked~div.sk-toggleable__content {\n",
       "  /* Expand drop-down */\n",
       "  max-height: 200px;\n",
       "  max-width: 100%;\n",
       "  overflow: auto;\n",
       "}\n",
       "\n",
       "#sk-container-id-1 input.sk-toggleable__control:checked~label.sk-toggleable__label-arrow:before {\n",
       "  content: \"▾\";\n",
       "}\n",
       "\n",
       "/* Pipeline/ColumnTransformer-specific style */\n",
       "\n",
       "#sk-container-id-1 div.sk-label input.sk-toggleable__control:checked~label.sk-toggleable__label {\n",
       "  color: var(--sklearn-color-text);\n",
       "  background-color: var(--sklearn-color-unfitted-level-2);\n",
       "}\n",
       "\n",
       "#sk-container-id-1 div.sk-label.fitted input.sk-toggleable__control:checked~label.sk-toggleable__label {\n",
       "  background-color: var(--sklearn-color-fitted-level-2);\n",
       "}\n",
       "\n",
       "/* Estimator-specific style */\n",
       "\n",
       "/* Colorize estimator box */\n",
       "#sk-container-id-1 div.sk-estimator input.sk-toggleable__control:checked~label.sk-toggleable__label {\n",
       "  /* unfitted */\n",
       "  background-color: var(--sklearn-color-unfitted-level-2);\n",
       "}\n",
       "\n",
       "#sk-container-id-1 div.sk-estimator.fitted input.sk-toggleable__control:checked~label.sk-toggleable__label {\n",
       "  /* fitted */\n",
       "  background-color: var(--sklearn-color-fitted-level-2);\n",
       "}\n",
       "\n",
       "#sk-container-id-1 div.sk-label label.sk-toggleable__label,\n",
       "#sk-container-id-1 div.sk-label label {\n",
       "  /* The background is the default theme color */\n",
       "  color: var(--sklearn-color-text-on-default-background);\n",
       "}\n",
       "\n",
       "/* On hover, darken the color of the background */\n",
       "#sk-container-id-1 div.sk-label:hover label.sk-toggleable__label {\n",
       "  color: var(--sklearn-color-text);\n",
       "  background-color: var(--sklearn-color-unfitted-level-2);\n",
       "}\n",
       "\n",
       "/* Label box, darken color on hover, fitted */\n",
       "#sk-container-id-1 div.sk-label.fitted:hover label.sk-toggleable__label.fitted {\n",
       "  color: var(--sklearn-color-text);\n",
       "  background-color: var(--sklearn-color-fitted-level-2);\n",
       "}\n",
       "\n",
       "/* Estimator label */\n",
       "\n",
       "#sk-container-id-1 div.sk-label label {\n",
       "  font-family: monospace;\n",
       "  font-weight: bold;\n",
       "  display: inline-block;\n",
       "  line-height: 1.2em;\n",
       "}\n",
       "\n",
       "#sk-container-id-1 div.sk-label-container {\n",
       "  text-align: center;\n",
       "}\n",
       "\n",
       "/* Estimator-specific */\n",
       "#sk-container-id-1 div.sk-estimator {\n",
       "  font-family: monospace;\n",
       "  border: 1px dotted var(--sklearn-color-border-box);\n",
       "  border-radius: 0.25em;\n",
       "  box-sizing: border-box;\n",
       "  margin-bottom: 0.5em;\n",
       "  /* unfitted */\n",
       "  background-color: var(--sklearn-color-unfitted-level-0);\n",
       "}\n",
       "\n",
       "#sk-container-id-1 div.sk-estimator.fitted {\n",
       "  /* fitted */\n",
       "  background-color: var(--sklearn-color-fitted-level-0);\n",
       "}\n",
       "\n",
       "/* on hover */\n",
       "#sk-container-id-1 div.sk-estimator:hover {\n",
       "  /* unfitted */\n",
       "  background-color: var(--sklearn-color-unfitted-level-2);\n",
       "}\n",
       "\n",
       "#sk-container-id-1 div.sk-estimator.fitted:hover {\n",
       "  /* fitted */\n",
       "  background-color: var(--sklearn-color-fitted-level-2);\n",
       "}\n",
       "\n",
       "/* Specification for estimator info (e.g. \"i\" and \"?\") */\n",
       "\n",
       "/* Common style for \"i\" and \"?\" */\n",
       "\n",
       ".sk-estimator-doc-link,\n",
       "a:link.sk-estimator-doc-link,\n",
       "a:visited.sk-estimator-doc-link {\n",
       "  float: right;\n",
       "  font-size: smaller;\n",
       "  line-height: 1em;\n",
       "  font-family: monospace;\n",
       "  background-color: var(--sklearn-color-background);\n",
       "  border-radius: 1em;\n",
       "  height: 1em;\n",
       "  width: 1em;\n",
       "  text-decoration: none !important;\n",
       "  margin-left: 1ex;\n",
       "  /* unfitted */\n",
       "  border: var(--sklearn-color-unfitted-level-1) 1pt solid;\n",
       "  color: var(--sklearn-color-unfitted-level-1);\n",
       "}\n",
       "\n",
       ".sk-estimator-doc-link.fitted,\n",
       "a:link.sk-estimator-doc-link.fitted,\n",
       "a:visited.sk-estimator-doc-link.fitted {\n",
       "  /* fitted */\n",
       "  border: var(--sklearn-color-fitted-level-1) 1pt solid;\n",
       "  color: var(--sklearn-color-fitted-level-1);\n",
       "}\n",
       "\n",
       "/* On hover */\n",
       "div.sk-estimator:hover .sk-estimator-doc-link:hover,\n",
       ".sk-estimator-doc-link:hover,\n",
       "div.sk-label-container:hover .sk-estimator-doc-link:hover,\n",
       ".sk-estimator-doc-link:hover {\n",
       "  /* unfitted */\n",
       "  background-color: var(--sklearn-color-unfitted-level-3);\n",
       "  color: var(--sklearn-color-background);\n",
       "  text-decoration: none;\n",
       "}\n",
       "\n",
       "div.sk-estimator.fitted:hover .sk-estimator-doc-link.fitted:hover,\n",
       ".sk-estimator-doc-link.fitted:hover,\n",
       "div.sk-label-container:hover .sk-estimator-doc-link.fitted:hover,\n",
       ".sk-estimator-doc-link.fitted:hover {\n",
       "  /* fitted */\n",
       "  background-color: var(--sklearn-color-fitted-level-3);\n",
       "  color: var(--sklearn-color-background);\n",
       "  text-decoration: none;\n",
       "}\n",
       "\n",
       "/* Span, style for the box shown on hovering the info icon */\n",
       ".sk-estimator-doc-link span {\n",
       "  display: none;\n",
       "  z-index: 9999;\n",
       "  position: relative;\n",
       "  font-weight: normal;\n",
       "  right: .2ex;\n",
       "  padding: .5ex;\n",
       "  margin: .5ex;\n",
       "  width: min-content;\n",
       "  min-width: 20ex;\n",
       "  max-width: 50ex;\n",
       "  color: var(--sklearn-color-text);\n",
       "  box-shadow: 2pt 2pt 4pt #999;\n",
       "  /* unfitted */\n",
       "  background: var(--sklearn-color-unfitted-level-0);\n",
       "  border: .5pt solid var(--sklearn-color-unfitted-level-3);\n",
       "}\n",
       "\n",
       ".sk-estimator-doc-link.fitted span {\n",
       "  /* fitted */\n",
       "  background: var(--sklearn-color-fitted-level-0);\n",
       "  border: var(--sklearn-color-fitted-level-3);\n",
       "}\n",
       "\n",
       ".sk-estimator-doc-link:hover span {\n",
       "  display: block;\n",
       "}\n",
       "\n",
       "/* \"?\"-specific style due to the `<a>` HTML tag */\n",
       "\n",
       "#sk-container-id-1 a.estimator_doc_link {\n",
       "  float: right;\n",
       "  font-size: 1rem;\n",
       "  line-height: 1em;\n",
       "  font-family: monospace;\n",
       "  background-color: var(--sklearn-color-background);\n",
       "  border-radius: 1rem;\n",
       "  height: 1rem;\n",
       "  width: 1rem;\n",
       "  text-decoration: none;\n",
       "  /* unfitted */\n",
       "  color: var(--sklearn-color-unfitted-level-1);\n",
       "  border: var(--sklearn-color-unfitted-level-1) 1pt solid;\n",
       "}\n",
       "\n",
       "#sk-container-id-1 a.estimator_doc_link.fitted {\n",
       "  /* fitted */\n",
       "  border: var(--sklearn-color-fitted-level-1) 1pt solid;\n",
       "  color: var(--sklearn-color-fitted-level-1);\n",
       "}\n",
       "\n",
       "/* On hover */\n",
       "#sk-container-id-1 a.estimator_doc_link:hover {\n",
       "  /* unfitted */\n",
       "  background-color: var(--sklearn-color-unfitted-level-3);\n",
       "  color: var(--sklearn-color-background);\n",
       "  text-decoration: none;\n",
       "}\n",
       "\n",
       "#sk-container-id-1 a.estimator_doc_link.fitted:hover {\n",
       "  /* fitted */\n",
       "  background-color: var(--sklearn-color-fitted-level-3);\n",
       "}\n",
       "</style><div id=\"sk-container-id-1\" class=\"sk-top-container\"><div class=\"sk-text-repr-fallback\"><pre>GridSearchCV(estimator=KNeighborsClassifier(),\n",
       "             param_grid={&#x27;n_neighbors&#x27;: [5, 7, 9, 11]})</pre><b>In a Jupyter environment, please rerun this cell to show the HTML representation or trust the notebook. <br />On GitHub, the HTML representation is unable to render, please try loading this page with nbviewer.org.</b></div><div class=\"sk-container\" hidden><div class=\"sk-item sk-dashed-wrapped\"><div class=\"sk-label-container\"><div class=\"sk-label fitted sk-toggleable\"><input class=\"sk-toggleable__control sk-hidden--visually\" id=\"sk-estimator-id-1\" type=\"checkbox\" ><label for=\"sk-estimator-id-1\" class=\"sk-toggleable__label fitted sk-toggleable__label-arrow fitted\">&nbsp;&nbsp;GridSearchCV<a class=\"sk-estimator-doc-link fitted\" rel=\"noreferrer\" target=\"_blank\" href=\"https://scikit-learn.org/1.5/modules/generated/sklearn.model_selection.GridSearchCV.html\">?<span>Documentation for GridSearchCV</span></a><span class=\"sk-estimator-doc-link fitted\">i<span>Fitted</span></span></label><div class=\"sk-toggleable__content fitted\"><pre>GridSearchCV(estimator=KNeighborsClassifier(),\n",
       "             param_grid={&#x27;n_neighbors&#x27;: [5, 7, 9, 11]})</pre></div> </div></div><div class=\"sk-parallel\"><div class=\"sk-parallel-item\"><div class=\"sk-item\"><div class=\"sk-label-container\"><div class=\"sk-label fitted sk-toggleable\"><input class=\"sk-toggleable__control sk-hidden--visually\" id=\"sk-estimator-id-2\" type=\"checkbox\" ><label for=\"sk-estimator-id-2\" class=\"sk-toggleable__label fitted sk-toggleable__label-arrow fitted\">best_estimator_: KNeighborsClassifier</label><div class=\"sk-toggleable__content fitted\"><pre>KNeighborsClassifier(n_neighbors=11)</pre></div> </div></div><div class=\"sk-serial\"><div class=\"sk-item\"><div class=\"sk-estimator fitted sk-toggleable\"><input class=\"sk-toggleable__control sk-hidden--visually\" id=\"sk-estimator-id-3\" type=\"checkbox\" ><label for=\"sk-estimator-id-3\" class=\"sk-toggleable__label fitted sk-toggleable__label-arrow fitted\">&nbsp;KNeighborsClassifier<a class=\"sk-estimator-doc-link fitted\" rel=\"noreferrer\" target=\"_blank\" href=\"https://scikit-learn.org/1.5/modules/generated/sklearn.neighbors.KNeighborsClassifier.html\">?<span>Documentation for KNeighborsClassifier</span></a></label><div class=\"sk-toggleable__content fitted\"><pre>KNeighborsClassifier(n_neighbors=11)</pre></div> </div></div></div></div></div></div></div></div></div>"
      ],
      "text/plain": [
       "GridSearchCV(estimator=KNeighborsClassifier(),\n",
       "             param_grid={'n_neighbors': [5, 7, 9, 11]})"
      ]
     },
     "execution_count": 55,
     "metadata": {},
     "output_type": "execute_result"
    }
   ],
   "source": [
    "# Модель K-Nearest Neighbors\n",
    "KNN = KNeighborsClassifier()\n",
    "KNN_params = {'n_neighbors': [5, 7, 9, 11]}\n",
    "KNN = GridSearchCV(KNN, param_grid=KNN_params)\n",
    "KNN.fit(X_train, y_train)"
   ]
  },
  {
   "cell_type": "code",
   "execution_count": 56,
   "id": "d8f3e70d",
   "metadata": {},
   "outputs": [],
   "source": [
    "# KNN predictions / Предсказание логистической регрессии\n",
    "KNN_pred = KNN.predict(X_test)"
   ]
  },
  {
   "cell_type": "code",
   "execution_count": 57,
   "id": "ee17bdad-2317-4dba-8fcb-568412c3fe68",
   "metadata": {},
   "outputs": [
    {
     "name": "stdout",
     "output_type": "stream",
     "text": [
      "KNN Classification Report: \n",
      "               precision    recall  f1-score   support\n",
      "\n",
      "           0   0.500000  0.555556  0.526316         9\n",
      "           1   0.600000  0.545455  0.571429        11\n",
      "\n",
      "    accuracy                       0.550000        20\n",
      "   macro avg   0.550000  0.550505  0.548872        20\n",
      "weighted avg   0.555000  0.550000  0.551128        20\n",
      "\n"
     ]
    }
   ],
   "source": [
    "# Classification report\n",
    "print(\"KNN Classification Report: \\n\", classification_report(y_test, KNN_pred, digits=6))"
   ]
  },
  {
   "cell_type": "markdown",
   "id": "ab31c782",
   "metadata": {},
   "source": [
    "* ### Visualisation of predictions / Визуализация предсказания"
   ]
  },
  {
   "cell_type": "code",
   "execution_count": 61,
   "id": "c48962c9",
   "metadata": {},
   "outputs": [
    {
     "data": {
      "text/html": [
       "<style type=\"text/css\">\n",
       "#T_dad69_row0_col0, #T_dad69_row0_col1, #T_dad69_row0_col2, #T_dad69_row1_col1, #T_dad69_row2_col1, #T_dad69_row2_col2, #T_dad69_row3_col0, #T_dad69_row3_col1, #T_dad69_row3_col2, #T_dad69_row4_col0, #T_dad69_row4_col1, #T_dad69_row4_col2, #T_dad69_row6_col0, #T_dad69_row7_col0, #T_dad69_row8_col0, #T_dad69_row8_col1, #T_dad69_row9_col2 {\n",
       "  background-color: #08306b;\n",
       "  color: #f1f1f1;\n",
       "}\n",
       "#T_dad69_row1_col0, #T_dad69_row1_col2, #T_dad69_row2_col0, #T_dad69_row5_col0, #T_dad69_row5_col1, #T_dad69_row5_col2, #T_dad69_row6_col1, #T_dad69_row6_col2, #T_dad69_row7_col1, #T_dad69_row7_col2, #T_dad69_row8_col2, #T_dad69_row9_col0, #T_dad69_row9_col1 {\n",
       "  background-color: #f7fbff;\n",
       "  color: #000000;\n",
       "}\n",
       "</style>\n",
       "<table id=\"T_dad69\">\n",
       "  <thead>\n",
       "    <tr>\n",
       "      <th class=\"blank level0\" >&nbsp;</th>\n",
       "      <th id=\"T_dad69_level0_col0\" class=\"col_heading level0 col0\" >Actual Gender</th>\n",
       "      <th id=\"T_dad69_level0_col1\" class=\"col_heading level0 col1\" >LR Predicted Gender</th>\n",
       "      <th id=\"T_dad69_level0_col2\" class=\"col_heading level0 col2\" >KNN Predicted Gender</th>\n",
       "    </tr>\n",
       "  </thead>\n",
       "  <tbody>\n",
       "    <tr>\n",
       "      <th id=\"T_dad69_level0_row0\" class=\"row_heading level0 row0\" >45</th>\n",
       "      <td id=\"T_dad69_row0_col0\" class=\"data row0 col0\" >1</td>\n",
       "      <td id=\"T_dad69_row0_col1\" class=\"data row0 col1\" >1</td>\n",
       "      <td id=\"T_dad69_row0_col2\" class=\"data row0 col2\" >1</td>\n",
       "    </tr>\n",
       "    <tr>\n",
       "      <th id=\"T_dad69_level0_row1\" class=\"row_heading level0 row1\" >28</th>\n",
       "      <td id=\"T_dad69_row1_col0\" class=\"data row1 col0\" >0</td>\n",
       "      <td id=\"T_dad69_row1_col1\" class=\"data row1 col1\" >1</td>\n",
       "      <td id=\"T_dad69_row1_col2\" class=\"data row1 col2\" >0</td>\n",
       "    </tr>\n",
       "    <tr>\n",
       "      <th id=\"T_dad69_level0_row2\" class=\"row_heading level0 row2\" >29</th>\n",
       "      <td id=\"T_dad69_row2_col0\" class=\"data row2 col0\" >0</td>\n",
       "      <td id=\"T_dad69_row2_col1\" class=\"data row2 col1\" >1</td>\n",
       "      <td id=\"T_dad69_row2_col2\" class=\"data row2 col2\" >1</td>\n",
       "    </tr>\n",
       "    <tr>\n",
       "      <th id=\"T_dad69_level0_row3\" class=\"row_heading level0 row3\" >55</th>\n",
       "      <td id=\"T_dad69_row3_col0\" class=\"data row3 col0\" >1</td>\n",
       "      <td id=\"T_dad69_row3_col1\" class=\"data row3 col1\" >1</td>\n",
       "      <td id=\"T_dad69_row3_col2\" class=\"data row3 col2\" >1</td>\n",
       "    </tr>\n",
       "    <tr>\n",
       "      <th id=\"T_dad69_level0_row4\" class=\"row_heading level0 row4\" >63</th>\n",
       "      <td id=\"T_dad69_row4_col0\" class=\"data row4 col0\" >1</td>\n",
       "      <td id=\"T_dad69_row4_col1\" class=\"data row4 col1\" >1</td>\n",
       "      <td id=\"T_dad69_row4_col2\" class=\"data row4 col2\" >1</td>\n",
       "    </tr>\n",
       "    <tr>\n",
       "      <th id=\"T_dad69_level0_row5\" class=\"row_heading level0 row5\" >31</th>\n",
       "      <td id=\"T_dad69_row5_col0\" class=\"data row5 col0\" >0</td>\n",
       "      <td id=\"T_dad69_row5_col1\" class=\"data row5 col1\" >0</td>\n",
       "      <td id=\"T_dad69_row5_col2\" class=\"data row5 col2\" >0</td>\n",
       "    </tr>\n",
       "    <tr>\n",
       "      <th id=\"T_dad69_level0_row6\" class=\"row_heading level0 row6\" >51</th>\n",
       "      <td id=\"T_dad69_row6_col0\" class=\"data row6 col0\" >1</td>\n",
       "      <td id=\"T_dad69_row6_col1\" class=\"data row6 col1\" >0</td>\n",
       "      <td id=\"T_dad69_row6_col2\" class=\"data row6 col2\" >0</td>\n",
       "    </tr>\n",
       "    <tr>\n",
       "      <th id=\"T_dad69_level0_row7\" class=\"row_heading level0 row7\" >46</th>\n",
       "      <td id=\"T_dad69_row7_col0\" class=\"data row7 col0\" >1</td>\n",
       "      <td id=\"T_dad69_row7_col1\" class=\"data row7 col1\" >0</td>\n",
       "      <td id=\"T_dad69_row7_col2\" class=\"data row7 col2\" >0</td>\n",
       "    </tr>\n",
       "    <tr>\n",
       "      <th id=\"T_dad69_level0_row8\" class=\"row_heading level0 row8\" >34</th>\n",
       "      <td id=\"T_dad69_row8_col0\" class=\"data row8 col0\" >1</td>\n",
       "      <td id=\"T_dad69_row8_col1\" class=\"data row8 col1\" >1</td>\n",
       "      <td id=\"T_dad69_row8_col2\" class=\"data row8 col2\" >0</td>\n",
       "    </tr>\n",
       "    <tr>\n",
       "      <th id=\"T_dad69_level0_row9\" class=\"row_heading level0 row9\" >4</th>\n",
       "      <td id=\"T_dad69_row9_col0\" class=\"data row9 col0\" >0</td>\n",
       "      <td id=\"T_dad69_row9_col1\" class=\"data row9 col1\" >0</td>\n",
       "      <td id=\"T_dad69_row9_col2\" class=\"data row9 col2\" >1</td>\n",
       "    </tr>\n",
       "  </tbody>\n",
       "</table>\n"
      ],
      "text/plain": [
       "<pandas.io.formats.style.Styler at 0x196da60e290>"
      ]
     },
     "execution_count": 61,
     "metadata": {},
     "output_type": "execute_result"
    }
   ],
   "source": [
    "# visual comparison between Actual 'Gender' and Predicted 'Gender' / визуальное сравнение фактического «пола» и прогнозируемого «пола»\n",
    "actualvspredicted = pd.DataFrame({\"Actual Gender\":y_test,\"LR Predicted Gender\":LR_pred, \"KNN Predicted Gender\":KNN_pred})\n",
    "actualvspredicted.head(10).style.background_gradient(cmap='Blues')"
   ]
  },
  {
   "cell_type": "markdown",
   "id": "ac615fea",
   "metadata": {},
   "source": [
    "### Confusion matrix / Матрица ошибок"
   ]
  },
  {
   "cell_type": "code",
   "execution_count": 63,
   "id": "347b33fd",
   "metadata": {},
   "outputs": [
    {
     "name": "stdout",
     "output_type": "stream",
     "text": [
      "KNN Confusion Matrix\n"
     ]
    },
    {
     "data": {
      "image/png": "[encoded data removed]",
      "text/plain": [
       "<Figure size 640x480 with 2 Axes>"
      ]
     },
     "metadata": {},
     "output_type": "display_data"
    },
    {
     "name": "stdout",
     "output_type": "stream",
     "text": [
      "\n"
     ]
    }
   ],
   "source": [
    "# confusion matrix of KNN model / матрица ошибок метода ближайших соседей\n",
    "KNN_confusion_mx = confusion_matrix(y_test, KNN_pred)\n",
    "print('KNN Confusion Matrix')\n",
    "\n",
    "# visualisation / визуализация\n",
    "ax = plt.subplot()\n",
    "sns.heatmap(KNN_confusion_mx, annot = True, fmt = 'd', cmap = 'Blues', ax = ax, linewidths = 0.5, annot_kws = {'size': 15})\n",
    "ax.set_ylabel('FP       True label        TP')\n",
    "ax.set_xlabel('FN       Predicted label        TN')\n",
    "ax.xaxis.set_ticklabels(['1', '0'], fontsize = 10)\n",
    "ax.yaxis.set_ticklabels(['1', '0'], fontsize = 10)\n",
    "plt.show()\n",
    "print() "
   ]
  },
  {
   "cell_type": "markdown",
   "id": "e2b6ac6c",
   "metadata": {},
   "source": [
    "* ### ROC-AUC score / Оценка ROC-AUC"
   ]
  },
  {
   "cell_type": "code",
   "execution_count": 64,
   "id": "ed97e566",
   "metadata": {},
   "outputs": [
    {
     "data": {
      "text/plain": [
       "0.55"
      ]
     },
     "execution_count": 64,
     "metadata": {},
     "output_type": "execute_result"
    }
   ],
   "source": [
    "# ROC-AUC score of KNN model / Оценка ROC-AUC модели KNN\n",
    "roc_auc_score(KNN_pred, y_test)"
   ]
  },
  {
   "cell_type": "markdown",
   "id": "22bfd260",
   "metadata": {},
   "source": [
    "#### Вывод: метод K-Nearest Neighbors для решения задачи не подходит"
   ]
  },
  {
   "cell_type": "markdown",
   "id": "80c37d29",
   "metadata": {},
   "source": [
    "### Дополнительно: Метод по теореме Байеса (Naive Bayes)"
   ]
  },
  {
   "cell_type": "code",
   "execution_count": 66,
   "id": "94af9cd4",
   "metadata": {},
   "outputs": [],
   "source": [
    "#импорт библиотеки\n",
    "from sklearn.naive_bayes import GaussianNB"
   ]
  },
  {
   "cell_type": "code",
   "execution_count": 67,
   "id": "0403cc6f",
   "metadata": {},
   "outputs": [],
   "source": [
    "# Model Naive Bayes\n",
    "NB = GaussianNB()            \n",
    "NB.fit(X_train, y_train)\n",
    "NB_pred = NB.predict(X_test)"
   ]
  },
  {
   "cell_type": "code",
   "execution_count": 68,
   "id": "e0d7f0c4",
   "metadata": {},
   "outputs": [
    {
     "data": {
      "text/plain": [
       "array([1, 0, 1, 1, 1, 0, 1, 0, 0, 0, 1, 0, 0, 1, 1, 0, 0, 0, 0, 0],\n",
       "      dtype=int64)"
      ]
     },
     "execution_count": 68,
     "metadata": {},
     "output_type": "execute_result"
    }
   ],
   "source": [
    "# KNN1 predictions / Предсказание теоремы Байеса\n",
    "NB_pred"
   ]
  },
  {
   "cell_type": "code",
   "execution_count": 69,
   "id": "45b77667",
   "metadata": {},
   "outputs": [
    {
     "name": "stdout",
     "output_type": "stream",
     "text": [
      "NB Classification Report: \n",
      "               precision    recall  f1-score   support\n",
      "\n",
      "           0   0.666667  0.888889  0.761905         9\n",
      "           1   0.875000  0.636364  0.736842        11\n",
      "\n",
      "    accuracy                       0.750000        20\n",
      "   macro avg   0.770833  0.762626  0.749373        20\n",
      "weighted avg   0.781250  0.750000  0.748120        20\n",
      "\n"
     ]
    }
   ],
   "source": [
    "# Classification report\n",
    "print(\"NB Classification Report: \\n\", classification_report(y_test, NB_pred, digits = 6))"
   ]
  },
  {
   "cell_type": "markdown",
   "id": "672c7cfe",
   "metadata": {},
   "source": [
    "* ### Visualisation of predictions / Визуализация предсказания"
   ]
  },
  {
   "cell_type": "code",
   "execution_count": 70,
   "id": "27b299f8",
   "metadata": {},
   "outputs": [
    {
     "data": {
      "text/html": [
       "<style type=\"text/css\">\n",
       "#T_9dfa8_row0_col0, #T_9dfa8_row0_col1, #T_9dfa8_row0_col2, #T_9dfa8_row1_col1, #T_9dfa8_row2_col1, #T_9dfa8_row2_col2, #T_9dfa8_row3_col0, #T_9dfa8_row3_col1, #T_9dfa8_row3_col2, #T_9dfa8_row4_col0, #T_9dfa8_row4_col1, #T_9dfa8_row4_col2, #T_9dfa8_row6_col0, #T_9dfa8_row6_col2, #T_9dfa8_row7_col0, #T_9dfa8_row8_col0, #T_9dfa8_row8_col1, #T_9dfa8_row10_col0, #T_9dfa8_row10_col1, #T_9dfa8_row10_col2, #T_9dfa8_row11_col0, #T_9dfa8_row12_col0, #T_9dfa8_row13_col0, #T_9dfa8_row13_col1, #T_9dfa8_row13_col2, #T_9dfa8_row14_col0, #T_9dfa8_row14_col1, #T_9dfa8_row14_col2 {\n",
       "  background-color: #08306b;\n",
       "  color: #f1f1f1;\n",
       "}\n",
       "#T_9dfa8_row1_col0, #T_9dfa8_row1_col2, #T_9dfa8_row2_col0, #T_9dfa8_row5_col0, #T_9dfa8_row5_col1, #T_9dfa8_row5_col2, #T_9dfa8_row6_col1, #T_9dfa8_row7_col1, #T_9dfa8_row7_col2, #T_9dfa8_row8_col2, #T_9dfa8_row9_col0, #T_9dfa8_row9_col1, #T_9dfa8_row9_col2, #T_9dfa8_row11_col1, #T_9dfa8_row11_col2, #T_9dfa8_row12_col1, #T_9dfa8_row12_col2 {\n",
       "  background-color: #f7fbff;\n",
       "  color: #000000;\n",
       "}\n",
       "</style>\n",
       "<table id=\"T_9dfa8\">\n",
       "  <thead>\n",
       "    <tr>\n",
       "      <th class=\"blank level0\" >&nbsp;</th>\n",
       "      <th id=\"T_9dfa8_level0_col0\" class=\"col_heading level0 col0\" >Actual Gender</th>\n",
       "      <th id=\"T_9dfa8_level0_col1\" class=\"col_heading level0 col1\" >LR Predicted Gender</th>\n",
       "      <th id=\"T_9dfa8_level0_col2\" class=\"col_heading level0 col2\" >NB Predicted Gender</th>\n",
       "    </tr>\n",
       "  </thead>\n",
       "  <tbody>\n",
       "    <tr>\n",
       "      <th id=\"T_9dfa8_level0_row0\" class=\"row_heading level0 row0\" >45</th>\n",
       "      <td id=\"T_9dfa8_row0_col0\" class=\"data row0 col0\" >1</td>\n",
       "      <td id=\"T_9dfa8_row0_col1\" class=\"data row0 col1\" >1</td>\n",
       "      <td id=\"T_9dfa8_row0_col2\" class=\"data row0 col2\" >1</td>\n",
       "    </tr>\n",
       "    <tr>\n",
       "      <th id=\"T_9dfa8_level0_row1\" class=\"row_heading level0 row1\" >28</th>\n",
       "      <td id=\"T_9dfa8_row1_col0\" class=\"data row1 col0\" >0</td>\n",
       "      <td id=\"T_9dfa8_row1_col1\" class=\"data row1 col1\" >1</td>\n",
       "      <td id=\"T_9dfa8_row1_col2\" class=\"data row1 col2\" >0</td>\n",
       "    </tr>\n",
       "    <tr>\n",
       "      <th id=\"T_9dfa8_level0_row2\" class=\"row_heading level0 row2\" >29</th>\n",
       "      <td id=\"T_9dfa8_row2_col0\" class=\"data row2 col0\" >0</td>\n",
       "      <td id=\"T_9dfa8_row2_col1\" class=\"data row2 col1\" >1</td>\n",
       "      <td id=\"T_9dfa8_row2_col2\" class=\"data row2 col2\" >1</td>\n",
       "    </tr>\n",
       "    <tr>\n",
       "      <th id=\"T_9dfa8_level0_row3\" class=\"row_heading level0 row3\" >55</th>\n",
       "      <td id=\"T_9dfa8_row3_col0\" class=\"data row3 col0\" >1</td>\n",
       "      <td id=\"T_9dfa8_row3_col1\" class=\"data row3 col1\" >1</td>\n",
       "      <td id=\"T_9dfa8_row3_col2\" class=\"data row3 col2\" >1</td>\n",
       "    </tr>\n",
       "    <tr>\n",
       "      <th id=\"T_9dfa8_level0_row4\" class=\"row_heading level0 row4\" >63</th>\n",
       "      <td id=\"T_9dfa8_row4_col0\" class=\"data row4 col0\" >1</td>\n",
       "      <td id=\"T_9dfa8_row4_col1\" class=\"data row4 col1\" >1</td>\n",
       "      <td id=\"T_9dfa8_row4_col2\" class=\"data row4 col2\" >1</td>\n",
       "    </tr>\n",
       "    <tr>\n",
       "      <th id=\"T_9dfa8_level0_row5\" class=\"row_heading level0 row5\" >31</th>\n",
       "      <td id=\"T_9dfa8_row5_col0\" class=\"data row5 col0\" >0</td>\n",
       "      <td id=\"T_9dfa8_row5_col1\" class=\"data row5 col1\" >0</td>\n",
       "      <td id=\"T_9dfa8_row5_col2\" class=\"data row5 col2\" >0</td>\n",
       "    </tr>\n",
       "    <tr>\n",
       "      <th id=\"T_9dfa8_level0_row6\" class=\"row_heading level0 row6\" >51</th>\n",
       "      <td id=\"T_9dfa8_row6_col0\" class=\"data row6 col0\" >1</td>\n",
       "      <td id=\"T_9dfa8_row6_col1\" class=\"data row6 col1\" >0</td>\n",
       "      <td id=\"T_9dfa8_row6_col2\" class=\"data row6 col2\" >1</td>\n",
       "    </tr>\n",
       "    <tr>\n",
       "      <th id=\"T_9dfa8_level0_row7\" class=\"row_heading level0 row7\" >46</th>\n",
       "      <td id=\"T_9dfa8_row7_col0\" class=\"data row7 col0\" >1</td>\n",
       "      <td id=\"T_9dfa8_row7_col1\" class=\"data row7 col1\" >0</td>\n",
       "      <td id=\"T_9dfa8_row7_col2\" class=\"data row7 col2\" >0</td>\n",
       "    </tr>\n",
       "    <tr>\n",
       "      <th id=\"T_9dfa8_level0_row8\" class=\"row_heading level0 row8\" >34</th>\n",
       "      <td id=\"T_9dfa8_row8_col0\" class=\"data row8 col0\" >1</td>\n",
       "      <td id=\"T_9dfa8_row8_col1\" class=\"data row8 col1\" >1</td>\n",
       "      <td id=\"T_9dfa8_row8_col2\" class=\"data row8 col2\" >0</td>\n",
       "    </tr>\n",
       "    <tr>\n",
       "      <th id=\"T_9dfa8_level0_row9\" class=\"row_heading level0 row9\" >4</th>\n",
       "      <td id=\"T_9dfa8_row9_col0\" class=\"data row9 col0\" >0</td>\n",
       "      <td id=\"T_9dfa8_row9_col1\" class=\"data row9 col1\" >0</td>\n",
       "      <td id=\"T_9dfa8_row9_col2\" class=\"data row9 col2\" >0</td>\n",
       "    </tr>\n",
       "    <tr>\n",
       "      <th id=\"T_9dfa8_level0_row10\" class=\"row_heading level0 row10\" >35</th>\n",
       "      <td id=\"T_9dfa8_row10_col0\" class=\"data row10 col0\" >1</td>\n",
       "      <td id=\"T_9dfa8_row10_col1\" class=\"data row10 col1\" >1</td>\n",
       "      <td id=\"T_9dfa8_row10_col2\" class=\"data row10 col2\" >1</td>\n",
       "    </tr>\n",
       "    <tr>\n",
       "      <th id=\"T_9dfa8_level0_row11\" class=\"row_heading level0 row11\" >40</th>\n",
       "      <td id=\"T_9dfa8_row11_col0\" class=\"data row11 col0\" >1</td>\n",
       "      <td id=\"T_9dfa8_row11_col1\" class=\"data row11 col1\" >0</td>\n",
       "      <td id=\"T_9dfa8_row11_col2\" class=\"data row11 col2\" >0</td>\n",
       "    </tr>\n",
       "    <tr>\n",
       "      <th id=\"T_9dfa8_level0_row12\" class=\"row_heading level0 row12\" >33</th>\n",
       "      <td id=\"T_9dfa8_row12_col0\" class=\"data row12 col0\" >1</td>\n",
       "      <td id=\"T_9dfa8_row12_col1\" class=\"data row12 col1\" >0</td>\n",
       "      <td id=\"T_9dfa8_row12_col2\" class=\"data row12 col2\" >0</td>\n",
       "    </tr>\n",
       "    <tr>\n",
       "      <th id=\"T_9dfa8_level0_row13\" class=\"row_heading level0 row13\" >48</th>\n",
       "      <td id=\"T_9dfa8_row13_col0\" class=\"data row13 col0\" >1</td>\n",
       "      <td id=\"T_9dfa8_row13_col1\" class=\"data row13 col1\" >1</td>\n",
       "      <td id=\"T_9dfa8_row13_col2\" class=\"data row13 col2\" >1</td>\n",
       "    </tr>\n",
       "    <tr>\n",
       "      <th id=\"T_9dfa8_level0_row14\" class=\"row_heading level0 row14\" >65</th>\n",
       "      <td id=\"T_9dfa8_row14_col0\" class=\"data row14 col0\" >1</td>\n",
       "      <td id=\"T_9dfa8_row14_col1\" class=\"data row14 col1\" >1</td>\n",
       "      <td id=\"T_9dfa8_row14_col2\" class=\"data row14 col2\" >1</td>\n",
       "    </tr>\n",
       "  </tbody>\n",
       "</table>\n"
      ],
      "text/plain": [
       "<pandas.io.formats.style.Styler at 0x196db349a50>"
      ]
     },
     "execution_count": 70,
     "metadata": {},
     "output_type": "execute_result"
    }
   ],
   "source": [
    "# visual comparison between Actual 'Gender' and Predicted 'Gender' / визуальное сравнение фактического «пола» и прогнозируемого «пола»\n",
    "actualvspredicted = pd.DataFrame({\"Actual Gender\":y_test,\"LR Predicted Gender\":LR_pred, \"NB Predicted Gender\":NB_pred})\n",
    "actualvspredicted.head(15).style.background_gradient(cmap='Blues')"
   ]
  },
  {
   "cell_type": "markdown",
   "id": "86ee0f2f",
   "metadata": {},
   "source": [
    "### Confusion matrix / Матрица ошибок"
   ]
  },
  {
   "cell_type": "code",
   "execution_count": 71,
   "id": "da72f2d4",
   "metadata": {
    "scrolled": true
   },
   "outputs": [
    {
     "name": "stdout",
     "output_type": "stream",
     "text": [
      "NB Confusion Matrix\n"
     ]
    },
    {
     "data": {
      "image/png": "[encoded data removed]",
      "text/plain": [
       "<Figure size 640x480 with 2 Axes>"
      ]
     },
     "metadata": {},
     "output_type": "display_data"
    },
    {
     "name": "stdout",
     "output_type": "stream",
     "text": [
      "\n"
     ]
    }
   ],
   "source": [
    "# confusion matrix of NB model / матрица ошибок модели по теореме Байеса\n",
    "NB_confusion_mx = confusion_matrix(y_test, NB_pred)\n",
    "print('NB Confusion Matrix')\n",
    "\n",
    "# visualisation / визуализация\n",
    "ax = plt.subplot()\n",
    "sns.heatmap(NB_confusion_mx, annot = True, fmt = 'd', cmap = 'Blues', ax = ax, linewidths = 0.5, annot_kws = {'size': 15})\n",
    "ax.set_ylabel('FP       True label        TP')\n",
    "ax.set_xlabel('FN       Predicted label        TN')\n",
    "ax.xaxis.set_ticklabels(['1', '0'], fontsize = 10)\n",
    "ax.yaxis.set_ticklabels(['1', '0'], fontsize = 10)\n",
    "plt.show()\n",
    "print() "
   ]
  },
  {
   "cell_type": "markdown",
   "id": "e303067b",
   "metadata": {},
   "source": [
    "* ### ROC-AUC score / Оценка ROC-AUC"
   ]
  },
  {
   "cell_type": "code",
   "execution_count": 72,
   "id": "0b5d1618",
   "metadata": {},
   "outputs": [
    {
     "data": {
      "text/plain": [
       "0.7708333333333335"
      ]
     },
     "execution_count": 72,
     "metadata": {},
     "output_type": "execute_result"
    }
   ],
   "source": [
    "# ROC-AUC score of NB model / Оценка ROC-AUC модели NB\n",
    "roc_auc_score(NB_pred, y_test)"
   ]
  },
  {
   "cell_type": "markdown",
   "id": "94451743",
   "metadata": {},
   "source": [
    "#### Вывод: модель теоремы Байеса для решения задачи подходит лучше"
   ]
  },
  {
   "cell_type": "markdown",
   "id": "67da6df6",
   "metadata": {},
   "source": [
    "### Дополнительно: модель Машины опорных векторов (Support Vector Machine"
   ]
  },
  {
   "cell_type": "code",
   "execution_count": 73,
   "id": "6bb23366",
   "metadata": {},
   "outputs": [],
   "source": [
    "#импорт библиотеки\n",
    "from sklearn.svm import LinearSVC"
   ]
  },
  {
   "cell_type": "code",
   "execution_count": 74,
   "id": "289ad41e",
   "metadata": {},
   "outputs": [],
   "source": [
    "# Model Support Vector Machine\n",
    "SVM = LinearSVC()            \n",
    "SVM.fit(X_train, y_train)\n",
    "SVM_pred = SVM.predict(X_test)"
   ]
  },
  {
   "cell_type": "code",
   "execution_count": 75,
   "id": "55ec1506",
   "metadata": {},
   "outputs": [
    {
     "data": {
      "text/plain": [
       "array([1, 1, 1, 1, 1, 0, 0, 0, 0, 0, 0, 0, 0, 1, 1, 0, 0, 0, 0, 0],\n",
       "      dtype=int64)"
      ]
     },
     "execution_count": 75,
     "metadata": {},
     "output_type": "execute_result"
    }
   ],
   "source": [
    "# SVM predictions / Предсказание теоремы Байеса\n",
    "SVM_pred"
   ]
  },
  {
   "cell_type": "code",
   "execution_count": 76,
   "id": "6e224a78",
   "metadata": {},
   "outputs": [
    {
     "name": "stdout",
     "output_type": "stream",
     "text": [
      "SVM Classification Report: \n",
      "               precision    recall  f1-score   support\n",
      "\n",
      "           0   0.666667  0.888889  0.761905         9\n",
      "           1   0.875000  0.636364  0.736842        11\n",
      "\n",
      "    accuracy                       0.750000        20\n",
      "   macro avg   0.770833  0.762626  0.749373        20\n",
      "weighted avg   0.781250  0.750000  0.748120        20\n",
      "\n"
     ]
    }
   ],
   "source": [
    "# Classification report\n",
    "print(\"SVM Classification Report: \\n\", classification_report(y_test, NB_pred, digits = 6))"
   ]
  },
  {
   "cell_type": "markdown",
   "id": "7336f2b5",
   "metadata": {},
   "source": [
    "* ### Visualisation of predictions / Визуализация предсказания"
   ]
  },
  {
   "cell_type": "code",
   "execution_count": 77,
   "id": "348eef39",
   "metadata": {},
   "outputs": [
    {
     "data": {
      "text/html": [
       "<style type=\"text/css\">\n",
       "#T_c81e0_row0_col0, #T_c81e0_row0_col1, #T_c81e0_row0_col2, #T_c81e0_row1_col1, #T_c81e0_row1_col2, #T_c81e0_row2_col1, #T_c81e0_row2_col2, #T_c81e0_row3_col0, #T_c81e0_row3_col1, #T_c81e0_row3_col2, #T_c81e0_row4_col0, #T_c81e0_row4_col1, #T_c81e0_row4_col2, #T_c81e0_row6_col0, #T_c81e0_row7_col0, #T_c81e0_row8_col0, #T_c81e0_row8_col1 {\n",
       "  background-color: #08306b;\n",
       "  color: #f1f1f1;\n",
       "}\n",
       "#T_c81e0_row1_col0, #T_c81e0_row2_col0, #T_c81e0_row5_col0, #T_c81e0_row5_col1, #T_c81e0_row5_col2, #T_c81e0_row6_col1, #T_c81e0_row6_col2, #T_c81e0_row7_col1, #T_c81e0_row7_col2, #T_c81e0_row8_col2, #T_c81e0_row9_col0, #T_c81e0_row9_col1, #T_c81e0_row9_col2 {\n",
       "  background-color: #f7fbff;\n",
       "  color: #000000;\n",
       "}\n",
       "</style>\n",
       "<table id=\"T_c81e0\">\n",
       "  <thead>\n",
       "    <tr>\n",
       "      <th class=\"blank level0\" >&nbsp;</th>\n",
       "      <th id=\"T_c81e0_level0_col0\" class=\"col_heading level0 col0\" >Actual Gender</th>\n",
       "      <th id=\"T_c81e0_level0_col1\" class=\"col_heading level0 col1\" >LR Predicted Gender</th>\n",
       "      <th id=\"T_c81e0_level0_col2\" class=\"col_heading level0 col2\" >SVM Predicted Gender</th>\n",
       "    </tr>\n",
       "  </thead>\n",
       "  <tbody>\n",
       "    <tr>\n",
       "      <th id=\"T_c81e0_level0_row0\" class=\"row_heading level0 row0\" >45</th>\n",
       "      <td id=\"T_c81e0_row0_col0\" class=\"data row0 col0\" >1</td>\n",
       "      <td id=\"T_c81e0_row0_col1\" class=\"data row0 col1\" >1</td>\n",
       "      <td id=\"T_c81e0_row0_col2\" class=\"data row0 col2\" >1</td>\n",
       "    </tr>\n",
       "    <tr>\n",
       "      <th id=\"T_c81e0_level0_row1\" class=\"row_heading level0 row1\" >28</th>\n",
       "      <td id=\"T_c81e0_row1_col0\" class=\"data row1 col0\" >0</td>\n",
       "      <td id=\"T_c81e0_row1_col1\" class=\"data row1 col1\" >1</td>\n",
       "      <td id=\"T_c81e0_row1_col2\" class=\"data row1 col2\" >1</td>\n",
       "    </tr>\n",
       "    <tr>\n",
       "      <th id=\"T_c81e0_level0_row2\" class=\"row_heading level0 row2\" >29</th>\n",
       "      <td id=\"T_c81e0_row2_col0\" class=\"data row2 col0\" >0</td>\n",
       "      <td id=\"T_c81e0_row2_col1\" class=\"data row2 col1\" >1</td>\n",
       "      <td id=\"T_c81e0_row2_col2\" class=\"data row2 col2\" >1</td>\n",
       "    </tr>\n",
       "    <tr>\n",
       "      <th id=\"T_c81e0_level0_row3\" class=\"row_heading level0 row3\" >55</th>\n",
       "      <td id=\"T_c81e0_row3_col0\" class=\"data row3 col0\" >1</td>\n",
       "      <td id=\"T_c81e0_row3_col1\" class=\"data row3 col1\" >1</td>\n",
       "      <td id=\"T_c81e0_row3_col2\" class=\"data row3 col2\" >1</td>\n",
       "    </tr>\n",
       "    <tr>\n",
       "      <th id=\"T_c81e0_level0_row4\" class=\"row_heading level0 row4\" >63</th>\n",
       "      <td id=\"T_c81e0_row4_col0\" class=\"data row4 col0\" >1</td>\n",
       "      <td id=\"T_c81e0_row4_col1\" class=\"data row4 col1\" >1</td>\n",
       "      <td id=\"T_c81e0_row4_col2\" class=\"data row4 col2\" >1</td>\n",
       "    </tr>\n",
       "    <tr>\n",
       "      <th id=\"T_c81e0_level0_row5\" class=\"row_heading level0 row5\" >31</th>\n",
       "      <td id=\"T_c81e0_row5_col0\" class=\"data row5 col0\" >0</td>\n",
       "      <td id=\"T_c81e0_row5_col1\" class=\"data row5 col1\" >0</td>\n",
       "      <td id=\"T_c81e0_row5_col2\" class=\"data row5 col2\" >0</td>\n",
       "    </tr>\n",
       "    <tr>\n",
       "      <th id=\"T_c81e0_level0_row6\" class=\"row_heading level0 row6\" >51</th>\n",
       "      <td id=\"T_c81e0_row6_col0\" class=\"data row6 col0\" >1</td>\n",
       "      <td id=\"T_c81e0_row6_col1\" class=\"data row6 col1\" >0</td>\n",
       "      <td id=\"T_c81e0_row6_col2\" class=\"data row6 col2\" >0</td>\n",
       "    </tr>\n",
       "    <tr>\n",
       "      <th id=\"T_c81e0_level0_row7\" class=\"row_heading level0 row7\" >46</th>\n",
       "      <td id=\"T_c81e0_row7_col0\" class=\"data row7 col0\" >1</td>\n",
       "      <td id=\"T_c81e0_row7_col1\" class=\"data row7 col1\" >0</td>\n",
       "      <td id=\"T_c81e0_row7_col2\" class=\"data row7 col2\" >0</td>\n",
       "    </tr>\n",
       "    <tr>\n",
       "      <th id=\"T_c81e0_level0_row8\" class=\"row_heading level0 row8\" >34</th>\n",
       "      <td id=\"T_c81e0_row8_col0\" class=\"data row8 col0\" >1</td>\n",
       "      <td id=\"T_c81e0_row8_col1\" class=\"data row8 col1\" >1</td>\n",
       "      <td id=\"T_c81e0_row8_col2\" class=\"data row8 col2\" >0</td>\n",
       "    </tr>\n",
       "    <tr>\n",
       "      <th id=\"T_c81e0_level0_row9\" class=\"row_heading level0 row9\" >4</th>\n",
       "      <td id=\"T_c81e0_row9_col0\" class=\"data row9 col0\" >0</td>\n",
       "      <td id=\"T_c81e0_row9_col1\" class=\"data row9 col1\" >0</td>\n",
       "      <td id=\"T_c81e0_row9_col2\" class=\"data row9 col2\" >0</td>\n",
       "    </tr>\n",
       "  </tbody>\n",
       "</table>\n"
      ],
      "text/plain": [
       "<pandas.io.formats.style.Styler at 0x196d8fdfa50>"
      ]
     },
     "execution_count": 77,
     "metadata": {},
     "output_type": "execute_result"
    }
   ],
   "source": [
    "# visual comparison between Actual 'Gender' and Predicted 'Gender' / визуальное сравнение фактического «пола» и прогнозируемого «пола»\n",
    "actualvspredicted = pd.DataFrame({\"Actual Gender\":y_test,\"LR Predicted Gender\":LR_pred, \"SVM Predicted Gender\":SVM_pred})\n",
    "actualvspredicted.head(10).style.background_gradient(cmap='Blues')"
   ]
  },
  {
   "cell_type": "markdown",
   "id": "8077c142",
   "metadata": {},
   "source": [
    "### Confusion matrix / Матрица ошибок"
   ]
  },
  {
   "cell_type": "code",
   "execution_count": 78,
   "id": "f3619609",
   "metadata": {
    "scrolled": true
   },
   "outputs": [
    {
     "name": "stdout",
     "output_type": "stream",
     "text": [
      "SVM Confusion Matrix\n"
     ]
    },
    {
     "data": {
      "image/png": "[encoded data removed]",
      "text/plain": [
       "<Figure size 640x480 with 2 Axes>"
      ]
     },
     "metadata": {},
     "output_type": "display_data"
    },
    {
     "name": "stdout",
     "output_type": "stream",
     "text": [
      "\n"
     ]
    }
   ],
   "source": [
    "# confusion matrix of SVM model / матрица ошибок модели машины опорных векторов\n",
    "SVM_confusion_mx = confusion_matrix(y_test, SVM_pred)\n",
    "print('SVM Confusion Matrix')\n",
    "\n",
    "# visualisation / визуализация\n",
    "ax = plt.subplot()\n",
    "sns.heatmap(SVM_confusion_mx, annot = True, fmt = 'd', cmap = 'Blues', ax = ax, linewidths = 0.5, annot_kws = {'size': 15})\n",
    "ax.set_ylabel('FP       True label        TP')\n",
    "ax.set_xlabel('FN       Predicted label        TN')\n",
    "ax.xaxis.set_ticklabels(['1', '0'], fontsize = 10)\n",
    "ax.yaxis.set_ticklabels(['1', '0'], fontsize = 10)\n",
    "plt.show()\n",
    "print() "
   ]
  },
  {
   "cell_type": "markdown",
   "id": "990fbf86",
   "metadata": {},
   "source": [
    "* ### ROC-AUC score / Оценка ROC-AUC"
   ]
  },
  {
   "cell_type": "code",
   "execution_count": 79,
   "id": "c5db9e76",
   "metadata": {
    "scrolled": true
   },
   "outputs": [
    {
     "data": {
      "text/plain": [
       "0.6263736263736264"
      ]
     },
     "execution_count": 79,
     "metadata": {},
     "output_type": "execute_result"
    }
   ],
   "source": [
    "# ROC-AUC score of SVM model / Оценка ROC-AUC модели SVM\n",
    "roc_auc_score(SVM_pred, y_test)"
   ]
  },
  {
   "cell_type": "markdown",
   "id": "6f80d10c",
   "metadata": {},
   "source": [
    "#### Вывод: модель опорных векторов лучше всего подходит для решения задачи"
   ]
  },
  {
   "cell_type": "markdown",
   "id": "8a5100ff",
   "metadata": {},
   "source": [
    "### Дополнительно: модель дерева решений (Decision Tree Classifier)"
   ]
  },
  {
   "cell_type": "code",
   "execution_count": 80,
   "id": "ebf2c9df",
   "metadata": {},
   "outputs": [],
   "source": [
    "#импорт библиотеки\n",
    "from sklearn.tree import DecisionTreeClassifier"
   ]
  },
  {
   "cell_type": "code",
   "execution_count": 81,
   "id": "8ac2dcfb",
   "metadata": {},
   "outputs": [],
   "source": [
    "# Model Decision Tree Classifier\n",
    "DTC = DecisionTreeClassifier()            \n",
    "DTC.fit(X_train, y_train)\n",
    "DTC_pred = DTC.predict(X_test)"
   ]
  },
  {
   "cell_type": "code",
   "execution_count": 82,
   "id": "2537516b",
   "metadata": {},
   "outputs": [
    {
     "data": {
      "text/plain": [
       "array([1, 0, 1, 1, 1, 0, 1, 0, 1, 1, 1, 1, 1, 1, 1, 1, 0, 0, 1, 1],\n",
       "      dtype=int64)"
      ]
     },
     "execution_count": 82,
     "metadata": {},
     "output_type": "execute_result"
    }
   ],
   "source": [
    "# DTC predictions / Предсказание модели дерева решений\n",
    "DTC_pred"
   ]
  },
  {
   "cell_type": "code",
   "execution_count": 83,
   "id": "8f53e381",
   "metadata": {},
   "outputs": [
    {
     "name": "stdout",
     "output_type": "stream",
     "text": [
      "DTC Classification Report: \n",
      "               precision    recall  f1-score   support\n",
      "\n",
      "           0   0.800000  0.444444  0.571429         9\n",
      "           1   0.666667  0.909091  0.769231        11\n",
      "\n",
      "    accuracy                       0.700000        20\n",
      "   macro avg   0.733333  0.676768  0.670330        20\n",
      "weighted avg   0.726667  0.700000  0.680220        20\n",
      "\n"
     ]
    }
   ],
   "source": [
    "# Classification report\n",
    "print(\"DTC Classification Report: \\n\", classification_report(y_test, DTC_pred, digits = 6))"
   ]
  },
  {
   "cell_type": "markdown",
   "id": "2f22ff07",
   "metadata": {},
   "source": [
    "* ### Visualisation of predictions / Визуализация предсказания"
   ]
  },
  {
   "cell_type": "code",
   "execution_count": 84,
   "id": "491ce77c",
   "metadata": {},
   "outputs": [
    {
     "data": {
      "text/html": [
       "<style type=\"text/css\">\n",
       "#T_63b37_row0_col0, #T_63b37_row0_col1, #T_63b37_row0_col2, #T_63b37_row1_col1, #T_63b37_row2_col1, #T_63b37_row2_col2, #T_63b37_row3_col0, #T_63b37_row3_col1, #T_63b37_row3_col2, #T_63b37_row4_col0, #T_63b37_row4_col1, #T_63b37_row4_col2, #T_63b37_row6_col0, #T_63b37_row6_col2, #T_63b37_row7_col0, #T_63b37_row8_col0, #T_63b37_row8_col1, #T_63b37_row8_col2, #T_63b37_row9_col2 {\n",
       "  background-color: #08306b;\n",
       "  color: #f1f1f1;\n",
       "}\n",
       "#T_63b37_row1_col0, #T_63b37_row1_col2, #T_63b37_row2_col0, #T_63b37_row5_col0, #T_63b37_row5_col1, #T_63b37_row5_col2, #T_63b37_row6_col1, #T_63b37_row7_col1, #T_63b37_row7_col2, #T_63b37_row9_col0, #T_63b37_row9_col1 {\n",
       "  background-color: #f7fbff;\n",
       "  color: #000000;\n",
       "}\n",
       "</style>\n",
       "<table id=\"T_63b37\">\n",
       "  <thead>\n",
       "    <tr>\n",
       "      <th class=\"blank level0\" >&nbsp;</th>\n",
       "      <th id=\"T_63b37_level0_col0\" class=\"col_heading level0 col0\" >Actual Gender</th>\n",
       "      <th id=\"T_63b37_level0_col1\" class=\"col_heading level0 col1\" >LR Predicted Gender</th>\n",
       "      <th id=\"T_63b37_level0_col2\" class=\"col_heading level0 col2\" >DTC Predicted Gender</th>\n",
       "    </tr>\n",
       "  </thead>\n",
       "  <tbody>\n",
       "    <tr>\n",
       "      <th id=\"T_63b37_level0_row0\" class=\"row_heading level0 row0\" >45</th>\n",
       "      <td id=\"T_63b37_row0_col0\" class=\"data row0 col0\" >1</td>\n",
       "      <td id=\"T_63b37_row0_col1\" class=\"data row0 col1\" >1</td>\n",
       "      <td id=\"T_63b37_row0_col2\" class=\"data row0 col2\" >1</td>\n",
       "    </tr>\n",
       "    <tr>\n",
       "      <th id=\"T_63b37_level0_row1\" class=\"row_heading level0 row1\" >28</th>\n",
       "      <td id=\"T_63b37_row1_col0\" class=\"data row1 col0\" >0</td>\n",
       "      <td id=\"T_63b37_row1_col1\" class=\"data row1 col1\" >1</td>\n",
       "      <td id=\"T_63b37_row1_col2\" class=\"data row1 col2\" >0</td>\n",
       "    </tr>\n",
       "    <tr>\n",
       "      <th id=\"T_63b37_level0_row2\" class=\"row_heading level0 row2\" >29</th>\n",
       "      <td id=\"T_63b37_row2_col0\" class=\"data row2 col0\" >0</td>\n",
       "      <td id=\"T_63b37_row2_col1\" class=\"data row2 col1\" >1</td>\n",
       "      <td id=\"T_63b37_row2_col2\" class=\"data row2 col2\" >1</td>\n",
       "    </tr>\n",
       "    <tr>\n",
       "      <th id=\"T_63b37_level0_row3\" class=\"row_heading level0 row3\" >55</th>\n",
       "      <td id=\"T_63b37_row3_col0\" class=\"data row3 col0\" >1</td>\n",
       "      <td id=\"T_63b37_row3_col1\" class=\"data row3 col1\" >1</td>\n",
       "      <td id=\"T_63b37_row3_col2\" class=\"data row3 col2\" >1</td>\n",
       "    </tr>\n",
       "    <tr>\n",
       "      <th id=\"T_63b37_level0_row4\" class=\"row_heading level0 row4\" >63</th>\n",
       "      <td id=\"T_63b37_row4_col0\" class=\"data row4 col0\" >1</td>\n",
       "      <td id=\"T_63b37_row4_col1\" class=\"data row4 col1\" >1</td>\n",
       "      <td id=\"T_63b37_row4_col2\" class=\"data row4 col2\" >1</td>\n",
       "    </tr>\n",
       "    <tr>\n",
       "      <th id=\"T_63b37_level0_row5\" class=\"row_heading level0 row5\" >31</th>\n",
       "      <td id=\"T_63b37_row5_col0\" class=\"data row5 col0\" >0</td>\n",
       "      <td id=\"T_63b37_row5_col1\" class=\"data row5 col1\" >0</td>\n",
       "      <td id=\"T_63b37_row5_col2\" class=\"data row5 col2\" >0</td>\n",
       "    </tr>\n",
       "    <tr>\n",
       "      <th id=\"T_63b37_level0_row6\" class=\"row_heading level0 row6\" >51</th>\n",
       "      <td id=\"T_63b37_row6_col0\" class=\"data row6 col0\" >1</td>\n",
       "      <td id=\"T_63b37_row6_col1\" class=\"data row6 col1\" >0</td>\n",
       "      <td id=\"T_63b37_row6_col2\" class=\"data row6 col2\" >1</td>\n",
       "    </tr>\n",
       "    <tr>\n",
       "      <th id=\"T_63b37_level0_row7\" class=\"row_heading level0 row7\" >46</th>\n",
       "      <td id=\"T_63b37_row7_col0\" class=\"data row7 col0\" >1</td>\n",
       "      <td id=\"T_63b37_row7_col1\" class=\"data row7 col1\" >0</td>\n",
       "      <td id=\"T_63b37_row7_col2\" class=\"data row7 col2\" >0</td>\n",
       "    </tr>\n",
       "    <tr>\n",
       "      <th id=\"T_63b37_level0_row8\" class=\"row_heading level0 row8\" >34</th>\n",
       "      <td id=\"T_63b37_row8_col0\" class=\"data row8 col0\" >1</td>\n",
       "      <td id=\"T_63b37_row8_col1\" class=\"data row8 col1\" >1</td>\n",
       "      <td id=\"T_63b37_row8_col2\" class=\"data row8 col2\" >1</td>\n",
       "    </tr>\n",
       "    <tr>\n",
       "      <th id=\"T_63b37_level0_row9\" class=\"row_heading level0 row9\" >4</th>\n",
       "      <td id=\"T_63b37_row9_col0\" class=\"data row9 col0\" >0</td>\n",
       "      <td id=\"T_63b37_row9_col1\" class=\"data row9 col1\" >0</td>\n",
       "      <td id=\"T_63b37_row9_col2\" class=\"data row9 col2\" >1</td>\n",
       "    </tr>\n",
       "  </tbody>\n",
       "</table>\n"
      ],
      "text/plain": [
       "<pandas.io.formats.style.Styler at 0x196d8fdb0d0>"
      ]
     },
     "execution_count": 84,
     "metadata": {},
     "output_type": "execute_result"
    }
   ],
   "source": [
    "# visual comparison between Actual 'Gender' and Predicted 'Gender' / визуальное сравнение фактического «пола» и прогнозируемого «пола»\n",
    "actualvspredicted = pd.DataFrame({\"Actual Gender\":y_test,\"LR Predicted Gender\":LR_pred, \"DTC Predicted Gender\":DTC_pred})\n",
    "actualvspredicted.head(10).style.background_gradient(cmap='Blues')"
   ]
  },
  {
   "cell_type": "markdown",
   "id": "4b202930",
   "metadata": {},
   "source": [
    "### Confusion matrix / Матрица ошибок"
   ]
  },
  {
   "cell_type": "code",
   "execution_count": 85,
   "id": "37088c14",
   "metadata": {
    "scrolled": true
   },
   "outputs": [
    {
     "name": "stdout",
     "output_type": "stream",
     "text": [
      "DTC Confusion Matrix\n"
     ]
    },
    {
     "data": {
      "image/png": "[encoded data removed]",
      "text/plain": [
       "<Figure size 640x480 with 2 Axes>"
      ]
     },
     "metadata": {},
     "output_type": "display_data"
    },
    {
     "name": "stdout",
     "output_type": "stream",
     "text": [
      "\n"
     ]
    }
   ],
   "source": [
    "# confusion matrix of DTC model / матрица ошибок модели дерева решений\n",
    "DTC_confusion_mx = confusion_matrix(y_test, DTC_pred)\n",
    "print('DTC Confusion Matrix')\n",
    "\n",
    "# visualisation / визуализация\n",
    "ax = plt.subplot()\n",
    "sns.heatmap(DTC_confusion_mx, annot = True, fmt = 'd', cmap = 'Blues', ax = ax, linewidths = 0.5, annot_kws = {'size': 15})\n",
    "ax.set_ylabel('FP       True label        TP')\n",
    "ax.set_xlabel('FN       Predicted label        TN')\n",
    "ax.xaxis.set_ticklabels(['1', '0'], fontsize = 10)\n",
    "ax.yaxis.set_ticklabels(['1', '0'], fontsize = 10)\n",
    "plt.show()\n",
    "print() "
   ]
  },
  {
   "cell_type": "markdown",
   "id": "3bcc2f08",
   "metadata": {},
   "source": [
    "* ### ROC-AUC score / Оценка ROC-AUC"
   ]
  },
  {
   "cell_type": "code",
   "execution_count": 86,
   "id": "01e45563",
   "metadata": {
    "scrolled": true
   },
   "outputs": [
    {
     "data": {
      "text/plain": [
       "0.7333333333333333"
      ]
     },
     "execution_count": 86,
     "metadata": {},
     "output_type": "execute_result"
    }
   ],
   "source": [
    "# ROC-AUC score of DTC model / Оценка ROC-AUC модели DTC\n",
    "roc_auc_score(DTC_pred, y_test)"
   ]
  },
  {
   "cell_type": "markdown",
   "id": "69c981c5",
   "metadata": {},
   "source": [
    "#### Вывод: модель дерева решений для решения задачи не подходит"
   ]
  },
  {
   "cell_type": "markdown",
   "id": "6b96d951",
   "metadata": {},
   "source": [
    "### Дополнительно: модель случайного леса (Random Forest Classifier)"
   ]
  },
  {
   "cell_type": "code",
   "execution_count": 87,
   "id": "7607a44e",
   "metadata": {},
   "outputs": [],
   "source": [
    "#импорт библиотеки\n",
    "from sklearn.ensemble import RandomForestClassifier"
   ]
  },
  {
   "cell_type": "code",
   "execution_count": 88,
   "id": "11fb1420",
   "metadata": {},
   "outputs": [],
   "source": [
    "# Model Random Forest Classifier\n",
    "RFC = RandomForestClassifier()            \n",
    "RFC.fit(X_train, y_train)\n",
    "RFC_pred = RFC.predict(X_test)"
   ]
  },
  {
   "cell_type": "code",
   "execution_count": 89,
   "id": "4ba404e3",
   "metadata": {},
   "outputs": [
    {
     "data": {
      "text/plain": [
       "array([1, 0, 1, 1, 1, 1, 0, 0, 1, 1, 1, 1, 0, 0, 1, 0, 0, 0, 0, 1],\n",
       "      dtype=int64)"
      ]
     },
     "execution_count": 89,
     "metadata": {},
     "output_type": "execute_result"
    }
   ],
   "source": [
    "# DTC predictions / Предсказание модели дерева решений\n",
    "RFC_pred"
   ]
  },
  {
   "cell_type": "code",
   "execution_count": 90,
   "id": "5c05f68d",
   "metadata": {},
   "outputs": [
    {
     "name": "stdout",
     "output_type": "stream",
     "text": [
      "RFC Classification Report: \n",
      "               precision    recall  f1-score   support\n",
      "\n",
      "           0   0.555556  0.555556  0.555556         9\n",
      "           1   0.636364  0.636364  0.636364        11\n",
      "\n",
      "    accuracy                       0.600000        20\n",
      "   macro avg   0.595960  0.595960  0.595960        20\n",
      "weighted avg   0.600000  0.600000  0.600000        20\n",
      "\n"
     ]
    }
   ],
   "source": [
    "# Classification report\n",
    "print(\"RFC Classification Report: \\n\", classification_report(y_test, RFC_pred, digits = 6))"
   ]
  },
  {
   "cell_type": "markdown",
   "id": "87b55406",
   "metadata": {},
   "source": [
    "* ### Visualisation of predictions / Визуализация предсказания"
   ]
  },
  {
   "cell_type": "code",
   "execution_count": 91,
   "id": "186d1d4e",
   "metadata": {},
   "outputs": [
    {
     "data": {
      "text/html": [
       "<style type=\"text/css\">\n",
       "#T_65209_row0_col0, #T_65209_row0_col1, #T_65209_row0_col2, #T_65209_row1_col1, #T_65209_row2_col1, #T_65209_row2_col2, #T_65209_row3_col0, #T_65209_row3_col1, #T_65209_row3_col2, #T_65209_row4_col0, #T_65209_row4_col1, #T_65209_row4_col2, #T_65209_row5_col2, #T_65209_row6_col0, #T_65209_row7_col0, #T_65209_row8_col0, #T_65209_row8_col1, #T_65209_row8_col2, #T_65209_row9_col2 {\n",
       "  background-color: #08306b;\n",
       "  color: #f1f1f1;\n",
       "}\n",
       "#T_65209_row1_col0, #T_65209_row1_col2, #T_65209_row2_col0, #T_65209_row5_col0, #T_65209_row5_col1, #T_65209_row6_col1, #T_65209_row6_col2, #T_65209_row7_col1, #T_65209_row7_col2, #T_65209_row9_col0, #T_65209_row9_col1 {\n",
       "  background-color: #f7fbff;\n",
       "  color: #000000;\n",
       "}\n",
       "</style>\n",
       "<table id=\"T_65209\">\n",
       "  <thead>\n",
       "    <tr>\n",
       "      <th class=\"blank level0\" >&nbsp;</th>\n",
       "      <th id=\"T_65209_level0_col0\" class=\"col_heading level0 col0\" >Actual Gender</th>\n",
       "      <th id=\"T_65209_level0_col1\" class=\"col_heading level0 col1\" >LR Predicted Gender</th>\n",
       "      <th id=\"T_65209_level0_col2\" class=\"col_heading level0 col2\" >RFC Predicted Gender</th>\n",
       "    </tr>\n",
       "  </thead>\n",
       "  <tbody>\n",
       "    <tr>\n",
       "      <th id=\"T_65209_level0_row0\" class=\"row_heading level0 row0\" >45</th>\n",
       "      <td id=\"T_65209_row0_col0\" class=\"data row0 col0\" >1</td>\n",
       "      <td id=\"T_65209_row0_col1\" class=\"data row0 col1\" >1</td>\n",
       "      <td id=\"T_65209_row0_col2\" class=\"data row0 col2\" >1</td>\n",
       "    </tr>\n",
       "    <tr>\n",
       "      <th id=\"T_65209_level0_row1\" class=\"row_heading level0 row1\" >28</th>\n",
       "      <td id=\"T_65209_row1_col0\" class=\"data row1 col0\" >0</td>\n",
       "      <td id=\"T_65209_row1_col1\" class=\"data row1 col1\" >1</td>\n",
       "      <td id=\"T_65209_row1_col2\" class=\"data row1 col2\" >0</td>\n",
       "    </tr>\n",
       "    <tr>\n",
       "      <th id=\"T_65209_level0_row2\" class=\"row_heading level0 row2\" >29</th>\n",
       "      <td id=\"T_65209_row2_col0\" class=\"data row2 col0\" >0</td>\n",
       "      <td id=\"T_65209_row2_col1\" class=\"data row2 col1\" >1</td>\n",
       "      <td id=\"T_65209_row2_col2\" class=\"data row2 col2\" >1</td>\n",
       "    </tr>\n",
       "    <tr>\n",
       "      <th id=\"T_65209_level0_row3\" class=\"row_heading level0 row3\" >55</th>\n",
       "      <td id=\"T_65209_row3_col0\" class=\"data row3 col0\" >1</td>\n",
       "      <td id=\"T_65209_row3_col1\" class=\"data row3 col1\" >1</td>\n",
       "      <td id=\"T_65209_row3_col2\" class=\"data row3 col2\" >1</td>\n",
       "    </tr>\n",
       "    <tr>\n",
       "      <th id=\"T_65209_level0_row4\" class=\"row_heading level0 row4\" >63</th>\n",
       "      <td id=\"T_65209_row4_col0\" class=\"data row4 col0\" >1</td>\n",
       "      <td id=\"T_65209_row4_col1\" class=\"data row4 col1\" >1</td>\n",
       "      <td id=\"T_65209_row4_col2\" class=\"data row4 col2\" >1</td>\n",
       "    </tr>\n",
       "    <tr>\n",
       "      <th id=\"T_65209_level0_row5\" class=\"row_heading level0 row5\" >31</th>\n",
       "      <td id=\"T_65209_row5_col0\" class=\"data row5 col0\" >0</td>\n",
       "      <td id=\"T_65209_row5_col1\" class=\"data row5 col1\" >0</td>\n",
       "      <td id=\"T_65209_row5_col2\" class=\"data row5 col2\" >1</td>\n",
       "    </tr>\n",
       "    <tr>\n",
       "      <th id=\"T_65209_level0_row6\" class=\"row_heading level0 row6\" >51</th>\n",
       "      <td id=\"T_65209_row6_col0\" class=\"data row6 col0\" >1</td>\n",
       "      <td id=\"T_65209_row6_col1\" class=\"data row6 col1\" >0</td>\n",
       "      <td id=\"T_65209_row6_col2\" class=\"data row6 col2\" >0</td>\n",
       "    </tr>\n",
       "    <tr>\n",
       "      <th id=\"T_65209_level0_row7\" class=\"row_heading level0 row7\" >46</th>\n",
       "      <td id=\"T_65209_row7_col0\" class=\"data row7 col0\" >1</td>\n",
       "      <td id=\"T_65209_row7_col1\" class=\"data row7 col1\" >0</td>\n",
       "      <td id=\"T_65209_row7_col2\" class=\"data row7 col2\" >0</td>\n",
       "    </tr>\n",
       "    <tr>\n",
       "      <th id=\"T_65209_level0_row8\" class=\"row_heading level0 row8\" >34</th>\n",
       "      <td id=\"T_65209_row8_col0\" class=\"data row8 col0\" >1</td>\n",
       "      <td id=\"T_65209_row8_col1\" class=\"data row8 col1\" >1</td>\n",
       "      <td id=\"T_65209_row8_col2\" class=\"data row8 col2\" >1</td>\n",
       "    </tr>\n",
       "    <tr>\n",
       "      <th id=\"T_65209_level0_row9\" class=\"row_heading level0 row9\" >4</th>\n",
       "      <td id=\"T_65209_row9_col0\" class=\"data row9 col0\" >0</td>\n",
       "      <td id=\"T_65209_row9_col1\" class=\"data row9 col1\" >0</td>\n",
       "      <td id=\"T_65209_row9_col2\" class=\"data row9 col2\" >1</td>\n",
       "    </tr>\n",
       "  </tbody>\n",
       "</table>\n"
      ],
      "text/plain": [
       "<pandas.io.formats.style.Styler at 0x196d904ccd0>"
      ]
     },
     "execution_count": 91,
     "metadata": {},
     "output_type": "execute_result"
    }
   ],
   "source": [
    "# visual comparison between Actual 'Gender' and Predicted 'Gender' / визуальное сравнение фактического «пола» и прогнозируемого «пола»\n",
    "actualvspredicted = pd.DataFrame({\"Actual Gender\":y_test,\"LR Predicted Gender\":LR_pred, \"RFC Predicted Gender\":RFC_pred})\n",
    "actualvspredicted.head(10).style.background_gradient(cmap='Blues')"
   ]
  },
  {
   "cell_type": "markdown",
   "id": "493f79c7",
   "metadata": {},
   "source": [
    "### Confusion matrix / Матрица ошибок"
   ]
  },
  {
   "cell_type": "code",
   "execution_count": 92,
   "id": "7fb2ebab",
   "metadata": {
    "scrolled": true
   },
   "outputs": [
    {
     "name": "stdout",
     "output_type": "stream",
     "text": [
      "RFC Confusion Matrix\n"
     ]
    },
    {
     "data": {
      "image/png": "[encoded data removed]",
      "text/plain": [
       "<Figure size 640x480 with 2 Axes>"
      ]
     },
     "metadata": {},
     "output_type": "display_data"
    },
    {
     "name": "stdout",
     "output_type": "stream",
     "text": [
      "\n"
     ]
    }
   ],
   "source": [
    "# confusion matrix of RFC model / матрица ошибок модели случайного леса\n",
    "RFC_confusion_mx = confusion_matrix(y_test, RFC_pred)\n",
    "print('RFC Confusion Matrix')\n",
    "\n",
    "# visualisation / визуализация\n",
    "ax = plt.subplot()\n",
    "sns.heatmap(RFC_confusion_mx, annot = True, fmt = 'd', cmap = 'Blues', ax = ax, linewidths = 0.5, annot_kws = {'size': 15})\n",
    "ax.set_ylabel('FP       True label        TP')\n",
    "ax.set_xlabel('FN       Predicted label        TN')\n",
    "ax.xaxis.set_ticklabels(['1', '0'], fontsize = 10)\n",
    "ax.yaxis.set_ticklabels(['1', '0'], fontsize = 10)\n",
    "plt.show()\n",
    "print() "
   ]
  },
  {
   "cell_type": "markdown",
   "id": "0cc86108",
   "metadata": {},
   "source": [
    "* ### ROC-AUC score / Оценка ROC-AUC"
   ]
  },
  {
   "cell_type": "code",
   "execution_count": 93,
   "id": "0cf908e4",
   "metadata": {
    "scrolled": true
   },
   "outputs": [
    {
     "data": {
      "text/plain": [
       "0.5959595959595959"
      ]
     },
     "execution_count": 93,
     "metadata": {},
     "output_type": "execute_result"
    }
   ],
   "source": [
    "# ROC-AUC score of RFC model / Оценка ROC-AUC модели RFC\n",
    "roc_auc_score(RFC_pred, y_test)"
   ]
  },
  {
   "cell_type": "markdown",
   "id": "39eadabe",
   "metadata": {},
   "source": [
    "#### Вывод: модель случайного леса для решения задачи не подходит"
   ]
  },
  {
   "cell_type": "markdown",
   "id": "90481369",
   "metadata": {},
   "source": [
    "### Дополнительно: Метод градиентного бустинга (Gradient Boosting Regressor)"
   ]
  },
  {
   "cell_type": "code",
   "execution_count": 94,
   "id": "ff61b4e4",
   "metadata": {},
   "outputs": [],
   "source": [
    "#import model / импорт модели\n",
    "from sklearn.ensemble import GradientBoostingClassifier\n"
   ]
  },
  {
   "cell_type": "code",
   "execution_count": 95,
   "id": "60f0a2bc",
   "metadata": {},
   "outputs": [],
   "source": [
    "# Model Gradient Boosting Regressor\n",
    "GBR = GradientBoostingClassifier()\n",
    "GBR.fit(X_train, y_train)\n",
    "GBR_pred = GBR.predict(X_test)"
   ]
  },
  {
   "cell_type": "code",
   "execution_count": 96,
   "id": "05078ec9",
   "metadata": {},
   "outputs": [
    {
     "data": {
      "text/plain": [
       "array([1, 0, 1, 1, 1, 0, 1, 0, 1, 1, 1, 1, 0, 0, 1, 1, 0, 0, 0, 1],\n",
       "      dtype=int64)"
      ]
     },
     "execution_count": 96,
     "metadata": {},
     "output_type": "execute_result"
    }
   ],
   "source": [
    "# GBR predictions / Предсказание модели градиентного бустинга\n",
    "GBR_pred"
   ]
  },
  {
   "cell_type": "code",
   "execution_count": 97,
   "id": "1184502b",
   "metadata": {},
   "outputs": [
    {
     "name": "stdout",
     "output_type": "stream",
     "text": [
      "GBR Classification Report: \n",
      "               precision    recall  f1-score   support\n",
      "\n",
      "           0   0.625000  0.555556  0.588235         9\n",
      "           1   0.666667  0.727273  0.695652        11\n",
      "\n",
      "    accuracy                       0.650000        20\n",
      "   macro avg   0.645833  0.641414  0.641944        20\n",
      "weighted avg   0.647917  0.650000  0.647315        20\n",
      "\n"
     ]
    }
   ],
   "source": [
    "# Classification report\n",
    "print(\"GBR Classification Report: \\n\", classification_report(y_test, GBR_pred, digits = 6))"
   ]
  },
  {
   "cell_type": "code",
   "execution_count": 98,
   "id": "c025582c",
   "metadata": {
    "scrolled": true
   },
   "outputs": [
    {
     "data": {
      "text/html": [
       "<style type=\"text/css\">\n",
       "#T_85c43_row0_col0, #T_85c43_row0_col1, #T_85c43_row0_col2, #T_85c43_row1_col1, #T_85c43_row2_col1, #T_85c43_row2_col2, #T_85c43_row3_col0, #T_85c43_row3_col1, #T_85c43_row3_col2, #T_85c43_row4_col0, #T_85c43_row4_col1, #T_85c43_row4_col2, #T_85c43_row6_col0, #T_85c43_row6_col2, #T_85c43_row7_col0, #T_85c43_row8_col0, #T_85c43_row8_col1, #T_85c43_row8_col2, #T_85c43_row9_col2 {\n",
       "  background-color: #08306b;\n",
       "  color: #f1f1f1;\n",
       "}\n",
       "#T_85c43_row1_col0, #T_85c43_row1_col2, #T_85c43_row2_col0, #T_85c43_row5_col0, #T_85c43_row5_col1, #T_85c43_row5_col2, #T_85c43_row6_col1, #T_85c43_row7_col1, #T_85c43_row7_col2, #T_85c43_row9_col0, #T_85c43_row9_col1 {\n",
       "  background-color: #f7fbff;\n",
       "  color: #000000;\n",
       "}\n",
       "</style>\n",
       "<table id=\"T_85c43\">\n",
       "  <thead>\n",
       "    <tr>\n",
       "      <th class=\"blank level0\" >&nbsp;</th>\n",
       "      <th id=\"T_85c43_level0_col0\" class=\"col_heading level0 col0\" >Actual Gender</th>\n",
       "      <th id=\"T_85c43_level0_col1\" class=\"col_heading level0 col1\" >LR Predicted Gender</th>\n",
       "      <th id=\"T_85c43_level0_col2\" class=\"col_heading level0 col2\" >GBR Predicted Gender</th>\n",
       "    </tr>\n",
       "  </thead>\n",
       "  <tbody>\n",
       "    <tr>\n",
       "      <th id=\"T_85c43_level0_row0\" class=\"row_heading level0 row0\" >45</th>\n",
       "      <td id=\"T_85c43_row0_col0\" class=\"data row0 col0\" >1</td>\n",
       "      <td id=\"T_85c43_row0_col1\" class=\"data row0 col1\" >1</td>\n",
       "      <td id=\"T_85c43_row0_col2\" class=\"data row0 col2\" >1</td>\n",
       "    </tr>\n",
       "    <tr>\n",
       "      <th id=\"T_85c43_level0_row1\" class=\"row_heading level0 row1\" >28</th>\n",
       "      <td id=\"T_85c43_row1_col0\" class=\"data row1 col0\" >0</td>\n",
       "      <td id=\"T_85c43_row1_col1\" class=\"data row1 col1\" >1</td>\n",
       "      <td id=\"T_85c43_row1_col2\" class=\"data row1 col2\" >0</td>\n",
       "    </tr>\n",
       "    <tr>\n",
       "      <th id=\"T_85c43_level0_row2\" class=\"row_heading level0 row2\" >29</th>\n",
       "      <td id=\"T_85c43_row2_col0\" class=\"data row2 col0\" >0</td>\n",
       "      <td id=\"T_85c43_row2_col1\" class=\"data row2 col1\" >1</td>\n",
       "      <td id=\"T_85c43_row2_col2\" class=\"data row2 col2\" >1</td>\n",
       "    </tr>\n",
       "    <tr>\n",
       "      <th id=\"T_85c43_level0_row3\" class=\"row_heading level0 row3\" >55</th>\n",
       "      <td id=\"T_85c43_row3_col0\" class=\"data row3 col0\" >1</td>\n",
       "      <td id=\"T_85c43_row3_col1\" class=\"data row3 col1\" >1</td>\n",
       "      <td id=\"T_85c43_row3_col2\" class=\"data row3 col2\" >1</td>\n",
       "    </tr>\n",
       "    <tr>\n",
       "      <th id=\"T_85c43_level0_row4\" class=\"row_heading level0 row4\" >63</th>\n",
       "      <td id=\"T_85c43_row4_col0\" class=\"data row4 col0\" >1</td>\n",
       "      <td id=\"T_85c43_row4_col1\" class=\"data row4 col1\" >1</td>\n",
       "      <td id=\"T_85c43_row4_col2\" class=\"data row4 col2\" >1</td>\n",
       "    </tr>\n",
       "    <tr>\n",
       "      <th id=\"T_85c43_level0_row5\" class=\"row_heading level0 row5\" >31</th>\n",
       "      <td id=\"T_85c43_row5_col0\" class=\"data row5 col0\" >0</td>\n",
       "      <td id=\"T_85c43_row5_col1\" class=\"data row5 col1\" >0</td>\n",
       "      <td id=\"T_85c43_row5_col2\" class=\"data row5 col2\" >0</td>\n",
       "    </tr>\n",
       "    <tr>\n",
       "      <th id=\"T_85c43_level0_row6\" class=\"row_heading level0 row6\" >51</th>\n",
       "      <td id=\"T_85c43_row6_col0\" class=\"data row6 col0\" >1</td>\n",
       "      <td id=\"T_85c43_row6_col1\" class=\"data row6 col1\" >0</td>\n",
       "      <td id=\"T_85c43_row6_col2\" class=\"data row6 col2\" >1</td>\n",
       "    </tr>\n",
       "    <tr>\n",
       "      <th id=\"T_85c43_level0_row7\" class=\"row_heading level0 row7\" >46</th>\n",
       "      <td id=\"T_85c43_row7_col0\" class=\"data row7 col0\" >1</td>\n",
       "      <td id=\"T_85c43_row7_col1\" class=\"data row7 col1\" >0</td>\n",
       "      <td id=\"T_85c43_row7_col2\" class=\"data row7 col2\" >0</td>\n",
       "    </tr>\n",
       "    <tr>\n",
       "      <th id=\"T_85c43_level0_row8\" class=\"row_heading level0 row8\" >34</th>\n",
       "      <td id=\"T_85c43_row8_col0\" class=\"data row8 col0\" >1</td>\n",
       "      <td id=\"T_85c43_row8_col1\" class=\"data row8 col1\" >1</td>\n",
       "      <td id=\"T_85c43_row8_col2\" class=\"data row8 col2\" >1</td>\n",
       "    </tr>\n",
       "    <tr>\n",
       "      <th id=\"T_85c43_level0_row9\" class=\"row_heading level0 row9\" >4</th>\n",
       "      <td id=\"T_85c43_row9_col0\" class=\"data row9 col0\" >0</td>\n",
       "      <td id=\"T_85c43_row9_col1\" class=\"data row9 col1\" >0</td>\n",
       "      <td id=\"T_85c43_row9_col2\" class=\"data row9 col2\" >1</td>\n",
       "    </tr>\n",
       "  </tbody>\n",
       "</table>\n"
      ],
      "text/plain": [
       "<pandas.io.formats.style.Styler at 0x196d91dbfd0>"
      ]
     },
     "execution_count": 98,
     "metadata": {},
     "output_type": "execute_result"
    }
   ],
   "source": [
    "# visual comparison between Actual 'Gender' and Predicted 'Gender' / визуальное сравнение фактического «пола» и прогнозируемого «пола»\n",
    "actualvspredicted = pd.DataFrame({\"Actual Gender\":y_test,\"LR Predicted Gender\":LR_pred, \"GBR Predicted Gender\":GBR_pred})\n",
    "actualvspredicted.head(10).style.background_gradient(cmap='Blues')"
   ]
  },
  {
   "cell_type": "markdown",
   "id": "6f122449",
   "metadata": {},
   "source": [
    "### Confusion matrix / Матрица ошибок"
   ]
  },
  {
   "cell_type": "code",
   "execution_count": 99,
   "id": "1750eca0",
   "metadata": {
    "scrolled": true
   },
   "outputs": [
    {
     "name": "stdout",
     "output_type": "stream",
     "text": [
      "GBR Confusion Matrix\n"
     ]
    },
    {
     "data": {
      "image/png": "[encoded data removed]",
      "text/plain": [
       "<Figure size 640x480 with 2 Axes>"
      ]
     },
     "metadata": {},
     "output_type": "display_data"
    },
    {
     "name": "stdout",
     "output_type": "stream",
     "text": [
      "\n"
     ]
    }
   ],
   "source": [
    "# confusion matrix of GBR model / матрица ошибок модели градиентного бустинга\n",
    "GBR_confusion_mx = confusion_matrix(y_test, GBR_pred)\n",
    "print('GBR Confusion Matrix')\n",
    "\n",
    "# visualisation / визуализация\n",
    "ax = plt.subplot()\n",
    "sns.heatmap(GBR_confusion_mx, annot = True, fmt = 'd', cmap = 'Blues', ax = ax, linewidths = 0.5, annot_kws = {'size': 15})\n",
    "ax.set_ylabel('FP       True label        TP')\n",
    "ax.set_xlabel('FN       Predicted label        TN')\n",
    "ax.xaxis.set_ticklabels(['1', '0'], fontsize = 10)\n",
    "ax.yaxis.set_ticklabels(['1', '0'], fontsize = 10)\n",
    "plt.show()\n",
    "print() "
   ]
  },
  {
   "cell_type": "markdown",
   "id": "f6b3054a",
   "metadata": {},
   "source": [
    "* ### ROC-AUC score / Оценка ROC-AUC"
   ]
  },
  {
   "cell_type": "code",
   "execution_count": 100,
   "id": "6d8de8de",
   "metadata": {
    "scrolled": true
   },
   "outputs": [
    {
     "data": {
      "text/plain": [
       "0.6458333333333333"
      ]
     },
     "execution_count": 100,
     "metadata": {},
     "output_type": "execute_result"
    }
   ],
   "source": [
    "# ROC-AUC score of GBR model / Оценка ROC-AUC модели GBR\n",
    "roc_auc_score(GBR_pred, y_test)"
   ]
  },
  {
   "cell_type": "markdown",
   "id": "02da941c",
   "metadata": {},
   "source": [
    "#### Вывод: модель градиентного бустинга для решения задачи не подходит"
   ]
  }
 ],
 "metadata": {
  "hide_input": false,
  "kernelspec": {
   "display_name": "Python 3 (ipykernel)",
   "language": "python",
   "name": "python3"
  },
  "language_info": {
   "codemirror_mode": {
    "name": "ipython",
    "version": 3
   },
   "file_extension": ".py",
   "mimetype": "text/x-python",
   "name": "python",
   "nbconvert_exporter": "python",
   "pygments_lexer": "ipython3",
   "version": "3.11.9"
  },
  "papermill": {
   "default_parameters": {},
   "duration": 12.03125,
   "end_time": "2021-05-12T06:37:40.714635",
   "environment_variables": {},
   "exception": null,
   "input_path": "__notebook__.ipynb",
   "output_path": "__notebook__.ipynb",
   "parameters": {},
   "start_time": "2021-05-12T06:37:28.683385",
   "version": "2.3.2"
  },
  "varInspector": {
   "cols": {
    "lenName": 16,
    "lenType": 16,
    "lenVar": 40
   },
   "kernels_config": {
    "python": {
     "delete_cmd_postfix": "",
     "delete_cmd_prefix": "del ",
     "library": "var_list.py",
     "varRefreshCmd": "print(var_dic_list())"
    },
    "r": {
     "delete_cmd_postfix": ") ",
     "delete_cmd_prefix": "rm(",
     "library": "var_list.r",
     "varRefreshCmd": "cat(var_dic_list()) "
    }
   },
   "types_to_exclude": [
    "module",
    "function",
    "builtin_function_or_method",
    "instance",
    "_Feature"
   ],
   "window_display": false
  }
 },
 "nbformat": 4,
 "nbformat_minor": 5
}
